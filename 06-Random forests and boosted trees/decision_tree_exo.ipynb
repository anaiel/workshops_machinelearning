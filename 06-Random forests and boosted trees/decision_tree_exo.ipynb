{
 "cells": [
  {
   "cell_type": "markdown",
   "metadata": {},
   "source": [
    "## Nous allons créer un Decision Tree permettant de classifier differents elements, en l'occurence des fruits en fonctions de trois attributs."
   ]
  },
  {
   "cell_type": "code",
   "execution_count": 169,
   "metadata": {},
   "outputs": [],
   "source": [
    "from __future__ import print_function\n",
    "import numpy as np\n",
    "import pandas as pd"
   ]
  },
  {
   "cell_type": "code",
   "execution_count": 170,
   "metadata": {},
   "outputs": [],
   "source": [
    "training_data = pd.read_csv(\"data.csv\")"
   ]
  },
  {
   "cell_type": "markdown",
   "metadata": {},
   "source": [
    "### Visualisez les donnees (valeurs reelles) ###"
   ]
  },
  {
   "cell_type": "code",
   "execution_count": 171,
   "metadata": {},
   "outputs": [
    {
     "data": {
      "text/html": [
       "<div>\n",
       "<style scoped>\n",
       "    .dataframe tbody tr th:only-of-type {\n",
       "        vertical-align: middle;\n",
       "    }\n",
       "\n",
       "    .dataframe tbody tr th {\n",
       "        vertical-align: top;\n",
       "    }\n",
       "\n",
       "    .dataframe thead th {\n",
       "        text-align: right;\n",
       "    }\n",
       "</style>\n",
       "<table border=\"1\" class=\"dataframe\">\n",
       "  <thead>\n",
       "    <tr style=\"text-align: right;\">\n",
       "      <th></th>\n",
       "      <th>Color</th>\n",
       "      <th>Size</th>\n",
       "      <th>Season</th>\n",
       "      <th>Label</th>\n",
       "    </tr>\n",
       "  </thead>\n",
       "  <tbody>\n",
       "    <tr>\n",
       "      <th>0</th>\n",
       "      <td>Red</td>\n",
       "      <td>1</td>\n",
       "      <td>Summer</td>\n",
       "      <td>Grape</td>\n",
       "    </tr>\n",
       "    <tr>\n",
       "      <th>1</th>\n",
       "      <td>Green</td>\n",
       "      <td>3</td>\n",
       "      <td>Spring</td>\n",
       "      <td>Apple</td>\n",
       "    </tr>\n",
       "    <tr>\n",
       "      <th>2</th>\n",
       "      <td>Red</td>\n",
       "      <td>3</td>\n",
       "      <td>Winter</td>\n",
       "      <td>Orange</td>\n",
       "    </tr>\n",
       "    <tr>\n",
       "      <th>3</th>\n",
       "      <td>Green</td>\n",
       "      <td>2</td>\n",
       "      <td>Winter</td>\n",
       "      <td>Kiwi</td>\n",
       "    </tr>\n",
       "    <tr>\n",
       "      <th>4</th>\n",
       "      <td>Yellow</td>\n",
       "      <td>3</td>\n",
       "      <td>Winter</td>\n",
       "      <td>Lemon</td>\n",
       "    </tr>\n",
       "    <tr>\n",
       "      <th>5</th>\n",
       "      <td>Green</td>\n",
       "      <td>2</td>\n",
       "      <td>Winter</td>\n",
       "      <td>Kiwi</td>\n",
       "    </tr>\n",
       "    <tr>\n",
       "      <th>6</th>\n",
       "      <td>Yellow</td>\n",
       "      <td>3</td>\n",
       "      <td>Winter</td>\n",
       "      <td>Lemon</td>\n",
       "    </tr>\n",
       "    <tr>\n",
       "      <th>7</th>\n",
       "      <td>Green</td>\n",
       "      <td>1</td>\n",
       "      <td>Summer</td>\n",
       "      <td>Grape</td>\n",
       "    </tr>\n",
       "    <tr>\n",
       "      <th>8</th>\n",
       "      <td>Red</td>\n",
       "      <td>3</td>\n",
       "      <td>Spring</td>\n",
       "      <td>Apple</td>\n",
       "    </tr>\n",
       "    <tr>\n",
       "      <th>9</th>\n",
       "      <td>Red</td>\n",
       "      <td>3</td>\n",
       "      <td>Winter</td>\n",
       "      <td>Orange</td>\n",
       "    </tr>\n",
       "    <tr>\n",
       "      <th>10</th>\n",
       "      <td>Green</td>\n",
       "      <td>3</td>\n",
       "      <td>Winter</td>\n",
       "      <td>Kiwi</td>\n",
       "    </tr>\n",
       "    <tr>\n",
       "      <th>11</th>\n",
       "      <td>Yellow</td>\n",
       "      <td>2</td>\n",
       "      <td>Winter</td>\n",
       "      <td>Lemon</td>\n",
       "    </tr>\n",
       "    <tr>\n",
       "      <th>12</th>\n",
       "      <td>Red</td>\n",
       "      <td>1</td>\n",
       "      <td>Summer</td>\n",
       "      <td>Grape</td>\n",
       "    </tr>\n",
       "    <tr>\n",
       "      <th>13</th>\n",
       "      <td>Green</td>\n",
       "      <td>3</td>\n",
       "      <td>Spring</td>\n",
       "      <td>Apple</td>\n",
       "    </tr>\n",
       "    <tr>\n",
       "      <th>14</th>\n",
       "      <td>Red</td>\n",
       "      <td>3</td>\n",
       "      <td>Winter</td>\n",
       "      <td>Orange</td>\n",
       "    </tr>\n",
       "    <tr>\n",
       "      <th>15</th>\n",
       "      <td>Green</td>\n",
       "      <td>2</td>\n",
       "      <td>Winter</td>\n",
       "      <td>Kiwi</td>\n",
       "    </tr>\n",
       "    <tr>\n",
       "      <th>16</th>\n",
       "      <td>Yellow</td>\n",
       "      <td>2</td>\n",
       "      <td>Winter</td>\n",
       "      <td>Lemon</td>\n",
       "    </tr>\n",
       "    <tr>\n",
       "      <th>17</th>\n",
       "      <td>Red</td>\n",
       "      <td>1</td>\n",
       "      <td>Summer</td>\n",
       "      <td>Grape</td>\n",
       "    </tr>\n",
       "    <tr>\n",
       "      <th>18</th>\n",
       "      <td>Green</td>\n",
       "      <td>3</td>\n",
       "      <td>Spring</td>\n",
       "      <td>Apple</td>\n",
       "    </tr>\n",
       "    <tr>\n",
       "      <th>19</th>\n",
       "      <td>Red</td>\n",
       "      <td>3</td>\n",
       "      <td>Winter</td>\n",
       "      <td>Orange</td>\n",
       "    </tr>\n",
       "    <tr>\n",
       "      <th>20</th>\n",
       "      <td>Green</td>\n",
       "      <td>3</td>\n",
       "      <td>Winter</td>\n",
       "      <td>Kiwi</td>\n",
       "    </tr>\n",
       "    <tr>\n",
       "      <th>21</th>\n",
       "      <td>Yellow</td>\n",
       "      <td>3</td>\n",
       "      <td>Winter</td>\n",
       "      <td>Lemon</td>\n",
       "    </tr>\n",
       "    <tr>\n",
       "      <th>22</th>\n",
       "      <td>Red</td>\n",
       "      <td>1</td>\n",
       "      <td>Summer</td>\n",
       "      <td>Grape</td>\n",
       "    </tr>\n",
       "    <tr>\n",
       "      <th>23</th>\n",
       "      <td>Green</td>\n",
       "      <td>3</td>\n",
       "      <td>Spring</td>\n",
       "      <td>Apple</td>\n",
       "    </tr>\n",
       "    <tr>\n",
       "      <th>24</th>\n",
       "      <td>Red</td>\n",
       "      <td>3</td>\n",
       "      <td>Winter</td>\n",
       "      <td>Orange</td>\n",
       "    </tr>\n",
       "    <tr>\n",
       "      <th>25</th>\n",
       "      <td>Green</td>\n",
       "      <td>2</td>\n",
       "      <td>Winter</td>\n",
       "      <td>Kiwi</td>\n",
       "    </tr>\n",
       "    <tr>\n",
       "      <th>26</th>\n",
       "      <td>Yellow</td>\n",
       "      <td>3</td>\n",
       "      <td>Winter</td>\n",
       "      <td>Lemon</td>\n",
       "    </tr>\n",
       "    <tr>\n",
       "      <th>27</th>\n",
       "      <td>Red</td>\n",
       "      <td>1</td>\n",
       "      <td>Summer</td>\n",
       "      <td>Grape</td>\n",
       "    </tr>\n",
       "    <tr>\n",
       "      <th>28</th>\n",
       "      <td>Green</td>\n",
       "      <td>3</td>\n",
       "      <td>Spring</td>\n",
       "      <td>Apple</td>\n",
       "    </tr>\n",
       "    <tr>\n",
       "      <th>29</th>\n",
       "      <td>Red</td>\n",
       "      <td>3</td>\n",
       "      <td>Winter</td>\n",
       "      <td>Orange</td>\n",
       "    </tr>\n",
       "    <tr>\n",
       "      <th>...</th>\n",
       "      <td>...</td>\n",
       "      <td>...</td>\n",
       "      <td>...</td>\n",
       "      <td>...</td>\n",
       "    </tr>\n",
       "    <tr>\n",
       "      <th>70</th>\n",
       "      <td>Green</td>\n",
       "      <td>2</td>\n",
       "      <td>Winter</td>\n",
       "      <td>Kiwi</td>\n",
       "    </tr>\n",
       "    <tr>\n",
       "      <th>71</th>\n",
       "      <td>Yellow</td>\n",
       "      <td>3</td>\n",
       "      <td>Winter</td>\n",
       "      <td>Lemon</td>\n",
       "    </tr>\n",
       "    <tr>\n",
       "      <th>72</th>\n",
       "      <td>Red</td>\n",
       "      <td>1</td>\n",
       "      <td>Summer</td>\n",
       "      <td>Grape</td>\n",
       "    </tr>\n",
       "    <tr>\n",
       "      <th>73</th>\n",
       "      <td>Green</td>\n",
       "      <td>3</td>\n",
       "      <td>Spring</td>\n",
       "      <td>Apple</td>\n",
       "    </tr>\n",
       "    <tr>\n",
       "      <th>74</th>\n",
       "      <td>Red</td>\n",
       "      <td>3</td>\n",
       "      <td>Winter</td>\n",
       "      <td>Orange</td>\n",
       "    </tr>\n",
       "    <tr>\n",
       "      <th>75</th>\n",
       "      <td>Green</td>\n",
       "      <td>2</td>\n",
       "      <td>Winter</td>\n",
       "      <td>Kiwi</td>\n",
       "    </tr>\n",
       "    <tr>\n",
       "      <th>76</th>\n",
       "      <td>Yellow</td>\n",
       "      <td>3</td>\n",
       "      <td>Winter</td>\n",
       "      <td>Lemon</td>\n",
       "    </tr>\n",
       "    <tr>\n",
       "      <th>77</th>\n",
       "      <td>Red</td>\n",
       "      <td>1</td>\n",
       "      <td>Summer</td>\n",
       "      <td>Grape</td>\n",
       "    </tr>\n",
       "    <tr>\n",
       "      <th>78</th>\n",
       "      <td>Green</td>\n",
       "      <td>3</td>\n",
       "      <td>Spring</td>\n",
       "      <td>Apple</td>\n",
       "    </tr>\n",
       "    <tr>\n",
       "      <th>79</th>\n",
       "      <td>Red</td>\n",
       "      <td>3</td>\n",
       "      <td>Winter</td>\n",
       "      <td>Orange</td>\n",
       "    </tr>\n",
       "    <tr>\n",
       "      <th>80</th>\n",
       "      <td>Green</td>\n",
       "      <td>2</td>\n",
       "      <td>Winter</td>\n",
       "      <td>Kiwi</td>\n",
       "    </tr>\n",
       "    <tr>\n",
       "      <th>81</th>\n",
       "      <td>Yellow</td>\n",
       "      <td>3</td>\n",
       "      <td>Winter</td>\n",
       "      <td>Lemon</td>\n",
       "    </tr>\n",
       "    <tr>\n",
       "      <th>82</th>\n",
       "      <td>Red</td>\n",
       "      <td>1</td>\n",
       "      <td>Summer</td>\n",
       "      <td>Grape</td>\n",
       "    </tr>\n",
       "    <tr>\n",
       "      <th>83</th>\n",
       "      <td>Green</td>\n",
       "      <td>3</td>\n",
       "      <td>Spring</td>\n",
       "      <td>Apple</td>\n",
       "    </tr>\n",
       "    <tr>\n",
       "      <th>84</th>\n",
       "      <td>Red</td>\n",
       "      <td>3</td>\n",
       "      <td>Winter</td>\n",
       "      <td>Orange</td>\n",
       "    </tr>\n",
       "    <tr>\n",
       "      <th>85</th>\n",
       "      <td>Green</td>\n",
       "      <td>2</td>\n",
       "      <td>Winter</td>\n",
       "      <td>Kiwi</td>\n",
       "    </tr>\n",
       "    <tr>\n",
       "      <th>86</th>\n",
       "      <td>Yellow</td>\n",
       "      <td>3</td>\n",
       "      <td>Winter</td>\n",
       "      <td>Lemon</td>\n",
       "    </tr>\n",
       "    <tr>\n",
       "      <th>87</th>\n",
       "      <td>Red</td>\n",
       "      <td>1</td>\n",
       "      <td>Summer</td>\n",
       "      <td>Grape</td>\n",
       "    </tr>\n",
       "    <tr>\n",
       "      <th>88</th>\n",
       "      <td>Green</td>\n",
       "      <td>3</td>\n",
       "      <td>Spring</td>\n",
       "      <td>Apple</td>\n",
       "    </tr>\n",
       "    <tr>\n",
       "      <th>89</th>\n",
       "      <td>Red</td>\n",
       "      <td>3</td>\n",
       "      <td>Winter</td>\n",
       "      <td>Orange</td>\n",
       "    </tr>\n",
       "    <tr>\n",
       "      <th>90</th>\n",
       "      <td>Green</td>\n",
       "      <td>2</td>\n",
       "      <td>Winter</td>\n",
       "      <td>Kiwi</td>\n",
       "    </tr>\n",
       "    <tr>\n",
       "      <th>91</th>\n",
       "      <td>Yellow</td>\n",
       "      <td>3</td>\n",
       "      <td>Winter</td>\n",
       "      <td>Lemon</td>\n",
       "    </tr>\n",
       "    <tr>\n",
       "      <th>92</th>\n",
       "      <td>Red</td>\n",
       "      <td>1</td>\n",
       "      <td>Summer</td>\n",
       "      <td>Grape</td>\n",
       "    </tr>\n",
       "    <tr>\n",
       "      <th>93</th>\n",
       "      <td>Green</td>\n",
       "      <td>3</td>\n",
       "      <td>Spring</td>\n",
       "      <td>Apple</td>\n",
       "    </tr>\n",
       "    <tr>\n",
       "      <th>94</th>\n",
       "      <td>Red</td>\n",
       "      <td>3</td>\n",
       "      <td>Winter</td>\n",
       "      <td>Orange</td>\n",
       "    </tr>\n",
       "    <tr>\n",
       "      <th>95</th>\n",
       "      <td>Green</td>\n",
       "      <td>2</td>\n",
       "      <td>Winter</td>\n",
       "      <td>Kiwi</td>\n",
       "    </tr>\n",
       "    <tr>\n",
       "      <th>96</th>\n",
       "      <td>Yellow</td>\n",
       "      <td>3</td>\n",
       "      <td>Winter</td>\n",
       "      <td>Lemon</td>\n",
       "    </tr>\n",
       "    <tr>\n",
       "      <th>97</th>\n",
       "      <td>Red</td>\n",
       "      <td>3</td>\n",
       "      <td>Winter</td>\n",
       "      <td>Orange</td>\n",
       "    </tr>\n",
       "    <tr>\n",
       "      <th>98</th>\n",
       "      <td>Green</td>\n",
       "      <td>2</td>\n",
       "      <td>Winter</td>\n",
       "      <td>Kiwi</td>\n",
       "    </tr>\n",
       "    <tr>\n",
       "      <th>99</th>\n",
       "      <td>Green</td>\n",
       "      <td>2</td>\n",
       "      <td>Winter</td>\n",
       "      <td>Kiwi</td>\n",
       "    </tr>\n",
       "  </tbody>\n",
       "</table>\n",
       "<p>100 rows × 4 columns</p>\n",
       "</div>"
      ],
      "text/plain": [
       "     Color  Size  Season   Label\n",
       "0      Red     1  Summer   Grape\n",
       "1    Green     3  Spring   Apple\n",
       "2      Red     3  Winter  Orange\n",
       "3    Green     2  Winter    Kiwi\n",
       "4   Yellow     3  Winter   Lemon\n",
       "5    Green     2  Winter    Kiwi\n",
       "6   Yellow     3  Winter   Lemon\n",
       "7    Green     1  Summer   Grape\n",
       "8      Red     3  Spring   Apple\n",
       "9      Red     3  Winter  Orange\n",
       "10   Green     3  Winter    Kiwi\n",
       "11  Yellow     2  Winter   Lemon\n",
       "12     Red     1  Summer   Grape\n",
       "13   Green     3  Spring   Apple\n",
       "14     Red     3  Winter  Orange\n",
       "15   Green     2  Winter    Kiwi\n",
       "16  Yellow     2  Winter   Lemon\n",
       "17     Red     1  Summer   Grape\n",
       "18   Green     3  Spring   Apple\n",
       "19     Red     3  Winter  Orange\n",
       "20   Green     3  Winter    Kiwi\n",
       "21  Yellow     3  Winter   Lemon\n",
       "22     Red     1  Summer   Grape\n",
       "23   Green     3  Spring   Apple\n",
       "24     Red     3  Winter  Orange\n",
       "25   Green     2  Winter    Kiwi\n",
       "26  Yellow     3  Winter   Lemon\n",
       "27     Red     1  Summer   Grape\n",
       "28   Green     3  Spring   Apple\n",
       "29     Red     3  Winter  Orange\n",
       "..     ...   ...     ...     ...\n",
       "70   Green     2  Winter    Kiwi\n",
       "71  Yellow     3  Winter   Lemon\n",
       "72     Red     1  Summer   Grape\n",
       "73   Green     3  Spring   Apple\n",
       "74     Red     3  Winter  Orange\n",
       "75   Green     2  Winter    Kiwi\n",
       "76  Yellow     3  Winter   Lemon\n",
       "77     Red     1  Summer   Grape\n",
       "78   Green     3  Spring   Apple\n",
       "79     Red     3  Winter  Orange\n",
       "80   Green     2  Winter    Kiwi\n",
       "81  Yellow     3  Winter   Lemon\n",
       "82     Red     1  Summer   Grape\n",
       "83   Green     3  Spring   Apple\n",
       "84     Red     3  Winter  Orange\n",
       "85   Green     2  Winter    Kiwi\n",
       "86  Yellow     3  Winter   Lemon\n",
       "87     Red     1  Summer   Grape\n",
       "88   Green     3  Spring   Apple\n",
       "89     Red     3  Winter  Orange\n",
       "90   Green     2  Winter    Kiwi\n",
       "91  Yellow     3  Winter   Lemon\n",
       "92     Red     1  Summer   Grape\n",
       "93   Green     3  Spring   Apple\n",
       "94     Red     3  Winter  Orange\n",
       "95   Green     2  Winter    Kiwi\n",
       "96  Yellow     3  Winter   Lemon\n",
       "97     Red     3  Winter  Orange\n",
       "98   Green     2  Winter    Kiwi\n",
       "99   Green     2  Winter    Kiwi\n",
       "\n",
       "[100 rows x 4 columns]"
      ]
     },
     "execution_count": 171,
     "metadata": {},
     "output_type": "execute_result"
    }
   ],
   "source": [
    "training_data"
   ]
  },
  {
   "cell_type": "markdown",
   "metadata": {},
   "source": [
    "### Definissez X de type np.array qui contiendra les valeurs des attributs ET des labels (pour faciliter le partinioning par la suite)"
   ]
  },
  {
   "cell_type": "code",
   "execution_count": 172,
   "metadata": {},
   "outputs": [
    {
     "data": {
      "text/plain": [
       "array([['Red', 1, 'Summer', 'Grape'],\n",
       "       ['Green', 3, 'Spring', 'Apple'],\n",
       "       ['Red', 3, 'Winter', 'Orange'],\n",
       "       ['Green', 2, 'Winter', 'Kiwi'],\n",
       "       ['Yellow', 3, 'Winter', 'Lemon'],\n",
       "       ['Green', 2, 'Winter', 'Kiwi'],\n",
       "       ['Yellow', 3, 'Winter', 'Lemon'],\n",
       "       ['Green', 1, 'Summer', 'Grape'],\n",
       "       ['Red', 3, 'Spring', 'Apple'],\n",
       "       ['Red', 3, 'Winter', 'Orange'],\n",
       "       ['Green', 3, 'Winter', 'Kiwi'],\n",
       "       ['Yellow', 2, 'Winter', 'Lemon'],\n",
       "       ['Red', 1, 'Summer', 'Grape'],\n",
       "       ['Green', 3, 'Spring', 'Apple'],\n",
       "       ['Red', 3, 'Winter', 'Orange'],\n",
       "       ['Green', 2, 'Winter', 'Kiwi'],\n",
       "       ['Yellow', 2, 'Winter', 'Lemon'],\n",
       "       ['Red', 1, 'Summer', 'Grape'],\n",
       "       ['Green', 3, 'Spring', 'Apple'],\n",
       "       ['Red', 3, 'Winter', 'Orange'],\n",
       "       ['Green', 3, 'Winter', 'Kiwi'],\n",
       "       ['Yellow', 3, 'Winter', 'Lemon'],\n",
       "       ['Red', 1, 'Summer', 'Grape'],\n",
       "       ['Green', 3, 'Spring', 'Apple'],\n",
       "       ['Red', 3, 'Winter', 'Orange'],\n",
       "       ['Green', 2, 'Winter', 'Kiwi'],\n",
       "       ['Yellow', 3, 'Winter', 'Lemon'],\n",
       "       ['Red', 1, 'Summer', 'Grape'],\n",
       "       ['Green', 3, 'Spring', 'Apple'],\n",
       "       ['Red', 3, 'Winter', 'Orange'],\n",
       "       ['Green', 2, 'Winter', 'Kiwi'],\n",
       "       ['Yellow', 3, 'Winter', 'Lemon'],\n",
       "       ['Red', 1, 'Summer', 'Grape'],\n",
       "       ['Green', 3, 'Spring', 'Apple'],\n",
       "       ['Red', 3, 'Winter', 'Orange'],\n",
       "       ['Green', 2, 'Winter', 'Kiwi'],\n",
       "       ['Yellow', 3, 'Winter', 'Lemon'],\n",
       "       ['Red', 1, 'Summer', 'Grape'],\n",
       "       ['Green', 3, 'Spring', 'Apple'],\n",
       "       ['Red', 3, 'Winter', 'Orange'],\n",
       "       ['Green', 2, 'Winter', 'Kiwi'],\n",
       "       ['Yellow', 3, 'Winter', 'Lemon'],\n",
       "       ['Red', 1, 'Summer', 'Grape'],\n",
       "       ['Green', 3, 'Spring', 'Apple'],\n",
       "       ['Red', 3, 'Winter', 'Orange'],\n",
       "       ['Green', 2, 'Winter', 'Kiwi'],\n",
       "       ['Yellow', 3, 'Winter', 'Lemon'],\n",
       "       ['Red', 1, 'Summer', 'Grape'],\n",
       "       ['Green', 3, 'Spring', 'Apple'],\n",
       "       ['Red', 3, 'Winter', 'Orange'],\n",
       "       ['Green', 2, 'Winter', 'Kiwi'],\n",
       "       ['Yellow', 3, 'Winter', 'Lemon'],\n",
       "       ['Red', 1, 'Summer', 'Grape'],\n",
       "       ['Green', 3, 'Spring', 'Apple'],\n",
       "       ['Red', 3, 'Winter', 'Orange'],\n",
       "       ['Green', 2, 'Winter', 'Kiwi'],\n",
       "       ['Yellow', 3, 'Winter', 'Lemon'],\n",
       "       ['Red', 1, 'Summer', 'Grape'],\n",
       "       ['Green', 3, 'Spring', 'Apple'],\n",
       "       ['Red', 3, 'Winter', 'Orange'],\n",
       "       ['Green', 2, 'Winter', 'Kiwi'],\n",
       "       ['Yellow', 3, 'Winter', 'Lemon'],\n",
       "       ['Red', 1, 'Summer', 'Grape'],\n",
       "       ['Green', 3, 'Spring', 'Apple'],\n",
       "       ['Red', 3, 'Winter', 'Orange'],\n",
       "       ['Green', 2, 'Winter', 'Kiwi'],\n",
       "       ['Yellow', 3, 'Winter', 'Lemon'],\n",
       "       ['Red', 1, 'Summer', 'Grape'],\n",
       "       ['Green', 3, 'Spring', 'Apple'],\n",
       "       ['Red', 3, 'Winter', 'Orange'],\n",
       "       ['Green', 2, 'Winter', 'Kiwi'],\n",
       "       ['Yellow', 3, 'Winter', 'Lemon'],\n",
       "       ['Red', 1, 'Summer', 'Grape'],\n",
       "       ['Green', 3, 'Spring', 'Apple'],\n",
       "       ['Red', 3, 'Winter', 'Orange'],\n",
       "       ['Green', 2, 'Winter', 'Kiwi'],\n",
       "       ['Yellow', 3, 'Winter', 'Lemon'],\n",
       "       ['Red', 1, 'Summer', 'Grape'],\n",
       "       ['Green', 3, 'Spring', 'Apple'],\n",
       "       ['Red', 3, 'Winter', 'Orange'],\n",
       "       ['Green', 2, 'Winter', 'Kiwi'],\n",
       "       ['Yellow', 3, 'Winter', 'Lemon'],\n",
       "       ['Red', 1, 'Summer', 'Grape'],\n",
       "       ['Green', 3, 'Spring', 'Apple'],\n",
       "       ['Red', 3, 'Winter', 'Orange'],\n",
       "       ['Green', 2, 'Winter', 'Kiwi'],\n",
       "       ['Yellow', 3, 'Winter', 'Lemon'],\n",
       "       ['Red', 1, 'Summer', 'Grape'],\n",
       "       ['Green', 3, 'Spring', 'Apple'],\n",
       "       ['Red', 3, 'Winter', 'Orange'],\n",
       "       ['Green', 2, 'Winter', 'Kiwi'],\n",
       "       ['Yellow', 3, 'Winter', 'Lemon'],\n",
       "       ['Red', 1, 'Summer', 'Grape'],\n",
       "       ['Green', 3, 'Spring', 'Apple'],\n",
       "       ['Red', 3, 'Winter', 'Orange'],\n",
       "       ['Green', 2, 'Winter', 'Kiwi'],\n",
       "       ['Yellow', 3, 'Winter', 'Lemon'],\n",
       "       ['Red', 3, 'Winter', 'Orange'],\n",
       "       ['Green', 2, 'Winter', 'Kiwi'],\n",
       "       ['Green', 2, 'Winter', 'Kiwi']], dtype=object)"
      ]
     },
     "execution_count": 172,
     "metadata": {},
     "output_type": "execute_result"
    }
   ],
   "source": [
    "X = np.array(training_data)\n",
    "X"
   ]
  },
  {
   "cell_type": "code",
   "execution_count": 173,
   "metadata": {},
   "outputs": [],
   "source": [
    "# Nous devons maintenant stocker les differents titres de categrories pour pouvoir afficher notre arbre\n",
    "header = list(training_data.columns)"
   ]
  },
  {
   "cell_type": "markdown",
   "metadata": {},
   "source": [
    "### Nous vous donnons la fonction permettant de trouver les differentes valeurs possibles pour chaque categorie, testez la pour mieux la comprendre "
   ]
  },
  {
   "cell_type": "code",
   "execution_count": 174,
   "metadata": {},
   "outputs": [],
   "source": [
    "def unique_vals(rows, col):\n",
    "    return set([row[col] for row in rows])\n",
    "# La spécifité de l'objet set est qu'il ne peut pas contenir de doublons. Ses valeurs sont donc uniques."
   ]
  },
  {
   "cell_type": "markdown",
   "metadata": {},
   "source": [
    "### Testez votre fonction pour les differents attributs et labels ###"
   ]
  },
  {
   "cell_type": "code",
   "execution_count": 175,
   "metadata": {},
   "outputs": [
    {
     "data": {
      "text/plain": [
       "{'Spring', 'Summer', 'Winter'}"
      ]
     },
     "execution_count": 175,
     "metadata": {},
     "output_type": "execute_result"
    }
   ],
   "source": [
    "# Afficher les differentes saisons avec unique_vals\n",
    "saisons = unique_vals(X, 2)\n",
    "saisons"
   ]
  },
  {
   "cell_type": "code",
   "execution_count": 176,
   "metadata": {},
   "outputs": [
    {
     "data": {
      "text/plain": [
       "{'Green', 'Red', 'Yellow'}"
      ]
     },
     "execution_count": 176,
     "metadata": {},
     "output_type": "execute_result"
    }
   ],
   "source": [
    "# Afficher les differentes couleurs avec unique_vals\n",
    "couleurs = unique_vals(X, 0)\n",
    "couleurs"
   ]
  },
  {
   "cell_type": "code",
   "execution_count": 177,
   "metadata": {},
   "outputs": [
    {
     "data": {
      "text/plain": [
       "{'Apple', 'Grape', 'Kiwi', 'Lemon', 'Orange'}"
      ]
     },
     "execution_count": 177,
     "metadata": {},
     "output_type": "execute_result"
    }
   ],
   "source": [
    "# Afficher les differents fruits avec unique_vals\n",
    "fruits = unique_vals(X, 3)\n",
    "fruits"
   ]
  },
  {
   "cell_type": "markdown",
   "metadata": {},
   "source": [
    "### Definir la fonction permettant de compter le nombre de fruits présents par categorie *(nombre de citrons, nombre de pommes, etc.)* \n",
    "#### La valeur de retour doit être un dictionnaire"
   ]
  },
  {
   "cell_type": "code",
   "execution_count": 201,
   "metadata": {},
   "outputs": [],
   "source": [
    "def class_counts(rows):\n",
    "    label, count = np.unique(rows, return_counts=True)\n",
    "    counts = dict(zip(label, count))\n",
    "    return counts"
   ]
  },
  {
   "cell_type": "code",
   "execution_count": 179,
   "metadata": {},
   "outputs": [
    {
     "data": {
      "text/plain": [
       "{'Apple': 19, 'Grape': 19, 'Kiwi': 22, 'Lemon': 20, 'Orange': 20}"
      ]
     },
     "execution_count": 179,
     "metadata": {},
     "output_type": "execute_result"
    }
   ],
   "source": [
    "## Lancez votre fonction pour votre dataset :\n",
    "counts = class_counts(X)\n",
    "counts\n",
    "## Elle devrait retourner : {'Grape': 19, 'Apple': 19, 'Orange': 20, 'Kiwi': 22, 'Lemon': 20} "
   ]
  },
  {
   "cell_type": "markdown",
   "metadata": {},
   "source": [
    "### Definition de la fonction is_numeric permettant de savoir si une valeur est de type int/float ou non. ###"
   ]
  },
  {
   "cell_type": "code",
   "execution_count": 180,
   "metadata": {},
   "outputs": [],
   "source": [
    "def is_numeric(value):\n",
    "    if type(value) == int or type(value) == float:\n",
    "        return True\n",
    "    else:\n",
    "        return False"
   ]
  },
  {
   "cell_type": "code",
   "execution_count": 181,
   "metadata": {},
   "outputs": [
    {
     "data": {
      "text/plain": [
       "True"
      ]
     },
     "execution_count": 181,
     "metadata": {},
     "output_type": "execute_result"
    }
   ],
   "source": [
    "## Testez votre fonction pour une valeur numerique (int ou float) ...\n",
    "is_numeric(131787)"
   ]
  },
  {
   "cell_type": "code",
   "execution_count": 182,
   "metadata": {},
   "outputs": [
    {
     "data": {
      "text/plain": [
       "False"
      ]
     },
     "execution_count": 182,
     "metadata": {},
     "output_type": "execute_result"
    }
   ],
   "source": [
    "#... et pour une valeur non-numérique \n",
    "is_numeric('fgjwdg')"
   ]
  },
  {
   "cell_type": "markdown",
   "metadata": {},
   "source": [
    "### Pour partitionner le dataset, nous allons utiliser une classe \"Questions\" ! Cette classe enregistre un numero de colonne (Ex : 0 pour la couleur) et une valeur de la colonne (ex : Vert).  \n",
    "### La fonction match est utilisee pour comparer la valeur d'un exemple a celle de la question (voir commentaires fonction match).###\n",
    "#### Vous avez ici directement le constructeur et la fonction d'affichage. A vous de trouver la fonction match####"
   ]
  },
  {
   "cell_type": "code",
   "execution_count": 183,
   "metadata": {},
   "outputs": [],
   "source": [
    "class Question:\n",
    "    \n",
    "    def __init__(self, column, value):\n",
    "        # Le Constructeur  permet d'attribuer les variables données à la classe\n",
    "        self.column = column\n",
    "        self.value = value\n",
    "\n",
    "    def match(self, example):\n",
    "        if is_numeric(self.value):\n",
    "            return example[self.column] >= self.value\n",
    "        else:\n",
    "            return example[self.column] == self.value\n",
    "\n",
    "\n",
    "    def __repr__(self):\n",
    "        # This is just a helper method to print\n",
    "        # the question in a readable format.\n",
    "        condition = \"==\"\n",
    "        if is_numeric(self.value):\n",
    "            condition = \">=\"\n",
    "        return \"Is %s %s %s?\" % (\n",
    "            header[self.column], condition, str(self.value))"
   ]
  },
  {
   "cell_type": "markdown",
   "metadata": {},
   "source": [
    "#### Testez vos questions"
   ]
  },
  {
   "cell_type": "code",
   "execution_count": 184,
   "metadata": {},
   "outputs": [
    {
     "data": {
      "text/plain": [
       "True"
      ]
     },
     "execution_count": 184,
     "metadata": {},
     "output_type": "execute_result"
    }
   ],
   "source": [
    "# Ecrivez une question pour un attribut numerique\n",
    "q1 = Question(1, 2)\n",
    "q1.match(X[3])"
   ]
  },
  {
   "cell_type": "code",
   "execution_count": 185,
   "metadata": {},
   "outputs": [
    {
     "data": {
      "text/plain": [
       "True"
      ]
     },
     "execution_count": 185,
     "metadata": {},
     "output_type": "execute_result"
    }
   ],
   "source": [
    "# Et une deuxieme pour un attribut catégorique (couleurs / saisons) : \n",
    "q2 = Question(0, 'Green')\n",
    "q2.match(X[13])"
   ]
  },
  {
   "cell_type": "code",
   "execution_count": 186,
   "metadata": {},
   "outputs": [
    {
     "name": "stdout",
     "output_type": "stream",
     "text": [
      "['Yellow' 3 'Winter' 'Lemon']\n"
     ]
    },
    {
     "data": {
      "text/plain": [
       "False"
      ]
     },
     "execution_count": 186,
     "metadata": {},
     "output_type": "execute_result"
    }
   ],
   "source": [
    "# Choisissez un exemple dans le dataset et vérifiez avec la fonction match s'il est de couleur rouge\n",
    "example = X[26]\n",
    "print(example)\n",
    "q3 = Question(0, 'Red')\n",
    "q3.match(example)"
   ]
  },
  {
   "cell_type": "code",
   "execution_count": 187,
   "metadata": {},
   "outputs": [
    {
     "name": "stdout",
     "output_type": "stream",
     "text": [
      "['Red' 3 'Spring' 'Apple']\n"
     ]
    },
    {
     "data": {
      "text/plain": [
       "True"
      ]
     },
     "execution_count": 187,
     "metadata": {},
     "output_type": "execute_result"
    }
   ],
   "source": [
    "# Pareil, mais tester pour size >= 2 (Attention à l'inegalité)\n",
    "example = X[8]\n",
    "print(example)\n",
    "q4 = Question(1, 2)\n",
    "q4.match(example)"
   ]
  },
  {
   "cell_type": "markdown",
   "metadata": {},
   "source": [
    "### Vous devez definir la fonction partition qui prend en paramètres le dataset et une question, et les split en fonction de leur reponse (True / False) --> Ce seront nos 2 branches partant d'un noeud."
   ]
  },
  {
   "cell_type": "code",
   "execution_count": 188,
   "metadata": {},
   "outputs": [],
   "source": [
    "def partition(rows, question):\n",
    "    # Pour chaque ligne dans le dataset, partionnez le en 2 en fonction du resultat de la question.\n",
    "    true_rows, false_rows = [], []\n",
    "    for sample in rows:\n",
    "        if question.match(sample):\n",
    "            true_rows.append(sample)\n",
    "        else:\n",
    "            false_rows.append(sample)\n",
    "    true_rows, false_rows = np.array(true_rows), np.array(false_rows)\n",
    "    return true_rows, false_rows"
   ]
  },
  {
   "cell_type": "code",
   "execution_count": 189,
   "metadata": {
    "scrolled": true
   },
   "outputs": [],
   "source": [
    "# Testons notre fonction partition pour isoler les lignes \"rouges\"\n",
    "true_rows, false_rows = partition(X, q3)"
   ]
  },
  {
   "cell_type": "code",
   "execution_count": 190,
   "metadata": {},
   "outputs": [
    {
     "name": "stdout",
     "output_type": "stream",
     "text": [
      "True rows:\n",
      "[['Red' 1 'Summer' 'Grape']\n",
      " ['Red' 3 'Winter' 'Orange']\n",
      " ['Red' 3 'Spring' 'Apple']\n",
      " ['Red' 3 'Winter' 'Orange']\n",
      " ['Red' 1 'Summer' 'Grape']\n",
      " ['Red' 3 'Winter' 'Orange']\n",
      " ['Red' 1 'Summer' 'Grape']\n",
      " ['Red' 3 'Winter' 'Orange']\n",
      " ['Red' 1 'Summer' 'Grape']\n",
      " ['Red' 3 'Winter' 'Orange']\n",
      " ['Red' 1 'Summer' 'Grape']\n",
      " ['Red' 3 'Winter' 'Orange']\n",
      " ['Red' 1 'Summer' 'Grape']\n",
      " ['Red' 3 'Winter' 'Orange']\n",
      " ['Red' 1 'Summer' 'Grape']\n",
      " ['Red' 3 'Winter' 'Orange']\n",
      " ['Red' 1 'Summer' 'Grape']\n",
      " ['Red' 3 'Winter' 'Orange']\n",
      " ['Red' 1 'Summer' 'Grape']\n",
      " ['Red' 3 'Winter' 'Orange']\n",
      " ['Red' 1 'Summer' 'Grape']\n",
      " ['Red' 3 'Winter' 'Orange']\n",
      " ['Red' 1 'Summer' 'Grape']\n",
      " ['Red' 3 'Winter' 'Orange']\n",
      " ['Red' 1 'Summer' 'Grape']\n",
      " ['Red' 3 'Winter' 'Orange']\n",
      " ['Red' 1 'Summer' 'Grape']\n",
      " ['Red' 3 'Winter' 'Orange']\n",
      " ['Red' 1 'Summer' 'Grape']\n",
      " ['Red' 3 'Winter' 'Orange']\n",
      " ['Red' 1 'Summer' 'Grape']\n",
      " ['Red' 3 'Winter' 'Orange']\n",
      " ['Red' 1 'Summer' 'Grape']\n",
      " ['Red' 3 'Winter' 'Orange']\n",
      " ['Red' 1 'Summer' 'Grape']\n",
      " ['Red' 3 'Winter' 'Orange']\n",
      " ['Red' 1 'Summer' 'Grape']\n",
      " ['Red' 3 'Winter' 'Orange']\n",
      " ['Red' 3 'Winter' 'Orange']]\n",
      "\n",
      "False rows:\n",
      "[['Green' 3 'Spring' 'Apple']\n",
      " ['Green' 2 'Winter' 'Kiwi']\n",
      " ['Yellow' 3 'Winter' 'Lemon']\n",
      " ['Green' 2 'Winter' 'Kiwi']\n",
      " ['Yellow' 3 'Winter' 'Lemon']\n",
      " ['Green' 1 'Summer' 'Grape']\n",
      " ['Green' 3 'Winter' 'Kiwi']\n",
      " ['Yellow' 2 'Winter' 'Lemon']\n",
      " ['Green' 3 'Spring' 'Apple']\n",
      " ['Green' 2 'Winter' 'Kiwi']\n",
      " ['Yellow' 2 'Winter' 'Lemon']\n",
      " ['Green' 3 'Spring' 'Apple']\n",
      " ['Green' 3 'Winter' 'Kiwi']\n",
      " ['Yellow' 3 'Winter' 'Lemon']\n",
      " ['Green' 3 'Spring' 'Apple']\n",
      " ['Green' 2 'Winter' 'Kiwi']\n",
      " ['Yellow' 3 'Winter' 'Lemon']\n",
      " ['Green' 3 'Spring' 'Apple']\n",
      " ['Green' 2 'Winter' 'Kiwi']\n",
      " ['Yellow' 3 'Winter' 'Lemon']\n",
      " ['Green' 3 'Spring' 'Apple']\n",
      " ['Green' 2 'Winter' 'Kiwi']\n",
      " ['Yellow' 3 'Winter' 'Lemon']\n",
      " ['Green' 3 'Spring' 'Apple']\n",
      " ['Green' 2 'Winter' 'Kiwi']\n",
      " ['Yellow' 3 'Winter' 'Lemon']\n",
      " ['Green' 3 'Spring' 'Apple']\n",
      " ['Green' 2 'Winter' 'Kiwi']\n",
      " ['Yellow' 3 'Winter' 'Lemon']\n",
      " ['Green' 3 'Spring' 'Apple']\n",
      " ['Green' 2 'Winter' 'Kiwi']\n",
      " ['Yellow' 3 'Winter' 'Lemon']\n",
      " ['Green' 3 'Spring' 'Apple']\n",
      " ['Green' 2 'Winter' 'Kiwi']\n",
      " ['Yellow' 3 'Winter' 'Lemon']\n",
      " ['Green' 3 'Spring' 'Apple']\n",
      " ['Green' 2 'Winter' 'Kiwi']\n",
      " ['Yellow' 3 'Winter' 'Lemon']\n",
      " ['Green' 3 'Spring' 'Apple']\n",
      " ['Green' 2 'Winter' 'Kiwi']\n",
      " ['Yellow' 3 'Winter' 'Lemon']\n",
      " ['Green' 3 'Spring' 'Apple']\n",
      " ['Green' 2 'Winter' 'Kiwi']\n",
      " ['Yellow' 3 'Winter' 'Lemon']\n",
      " ['Green' 3 'Spring' 'Apple']\n",
      " ['Green' 2 'Winter' 'Kiwi']\n",
      " ['Yellow' 3 'Winter' 'Lemon']\n",
      " ['Green' 3 'Spring' 'Apple']\n",
      " ['Green' 2 'Winter' 'Kiwi']\n",
      " ['Yellow' 3 'Winter' 'Lemon']\n",
      " ['Green' 3 'Spring' 'Apple']\n",
      " ['Green' 2 'Winter' 'Kiwi']\n",
      " ['Yellow' 3 'Winter' 'Lemon']\n",
      " ['Green' 3 'Spring' 'Apple']\n",
      " ['Green' 2 'Winter' 'Kiwi']\n",
      " ['Yellow' 3 'Winter' 'Lemon']\n",
      " ['Green' 3 'Spring' 'Apple']\n",
      " ['Green' 2 'Winter' 'Kiwi']\n",
      " ['Yellow' 3 'Winter' 'Lemon']\n",
      " ['Green' 2 'Winter' 'Kiwi']\n",
      " ['Green' 2 'Winter' 'Kiwi']]\n"
     ]
    }
   ],
   "source": [
    "# Et verifiez le contenue de vos 2 nodes\n",
    "print('True rows:')\n",
    "print(true_rows)\n",
    "print()\n",
    "print('False rows:')\n",
    "print(false_rows)"
   ]
  },
  {
   "cell_type": "markdown",
   "metadata": {},
   "source": [
    "### Maintenant un peu de maths !\n",
    "#### Nous allons calculer l'impurity d'une liste d'exemple grace a GINI \n",
    "#### ATTENTION : La fonction doit pouvoir prendre les listes qui suivent comme les lignes d'exemples contenues dans X (ex : gini(X[0]) ))"
   ]
  },
  {
   "cell_type": "code",
   "execution_count": 436,
   "metadata": {},
   "outputs": [],
   "source": [
    "def gini(rows):\n",
    "    counts = class_counts(rows)\n",
    "    total_len = float(len(rows))\n",
    "    impurity = 1\n",
    "    for val in counts.values():\n",
    "        impurity -= ((val / total_len) ** 2)\n",
    "    return impurity"
   ]
  },
  {
   "cell_type": "code",
   "execution_count": 437,
   "metadata": {},
   "outputs": [
    {
     "data": {
      "text/plain": [
       "0.0"
      ]
     },
     "execution_count": 437,
     "metadata": {},
     "output_type": "execute_result"
    }
   ],
   "source": [
    "# Pour verifier la fonction tester l'exemple suivant \n",
    "no_mixing = [['Apple'], ['Apple']]\n",
    "# Que devrait-etre votre resultat ?\n",
    "gini(no_mixing)"
   ]
  },
  {
   "cell_type": "code",
   "execution_count": 438,
   "metadata": {},
   "outputs": [
    {
     "data": {
      "text/plain": [
       "0.5"
      ]
     },
     "execution_count": 438,
     "metadata": {},
     "output_type": "execute_result"
    }
   ],
   "source": [
    " # Maintenant avec un autre\n",
    "some_mixing = [['Apple'], ['Orange'], ['Orange'], ['Apple']]\n",
    "#  Que devriez vous obtenir comme resultat ?\n",
    "gini(some_mixing)"
   ]
  },
  {
   "cell_type": "code",
   "execution_count": 439,
   "metadata": {},
   "outputs": [
    {
     "data": {
      "text/plain": [
       "0.79999999999999982"
      ]
     },
     "execution_count": 439,
     "metadata": {},
     "output_type": "execute_result"
    }
   ],
   "source": [
    "# Et maintenant pour un dataset avec tous nos fruits\n",
    "lots_of_mixing = [['Apple'],\n",
    "                  ['Orange'],\n",
    "                  ['Grape'],\n",
    "                  ['Lemon'],\n",
    "                  ['Kiwi']]\n",
    "# Vous devriez obtenir environ 0.8\n",
    "gini(lots_of_mixing)"
   ]
  },
  {
   "cell_type": "markdown",
   "metadata": {},
   "source": [
    "### Calculons l'information gain "
   ]
  },
  {
   "cell_type": "code",
   "execution_count": 440,
   "metadata": {},
   "outputs": [],
   "source": [
    "\"\"\"Information Gain :\n",
    "The uncertainty of the starting node, minus the weighted impurity of\n",
    "two child nodes.\n",
    "\"\"\"\n",
    "\n",
    "def information_gain(left, right, current_uncertainty):\n",
    "    total_len = float(len(left) + len(right))\n",
    "    gini_left = gini(left.T[3]) if len(left) != 0 else 0\n",
    "    gini_right = gini(right.T[3]) if len(right) != 0 else 0\n",
    "    info_gain = current_uncertainty - len(left) / total_len * gini_left - len(right) / total_len * gini_right\n",
    "    return info_gain"
   ]
  },
  {
   "cell_type": "code",
   "execution_count": 441,
   "metadata": {},
   "outputs": [
    {
     "data": {
      "text/plain": [
       "0.79939999999999989"
      ]
     },
     "execution_count": 441,
     "metadata": {},
     "output_type": "execute_result"
    }
   ],
   "source": [
    "# Calculez l'uncertainy de notre dataset.\n",
    "current_uncertainty = gini(X.T[3])\n",
    "current_uncertainty\n",
    "# Vous devriez obtenir environ 0.8"
   ]
  },
  {
   "cell_type": "code",
   "execution_count": 442,
   "metadata": {},
   "outputs": [
    {
     "name": "stdout",
     "output_type": "stream",
     "text": [
      "Is Color == Red?\n",
      "0.183494157209\n"
     ]
    }
   ],
   "source": [
    "# Quel est notre information gain du Dataset si nous partitionnons avec la question couleur == rouge ??\n",
    "q = Question(0, 'Red')\n",
    "print(q)\n",
    "left, right = partition(X, q)\n",
    "gain = information_gain(left, right, current_uncertainty)\n",
    "print(gain)\n",
    "# Resultat : environ 0.1835"
   ]
  },
  {
   "cell_type": "code",
   "execution_count": 443,
   "metadata": {},
   "outputs": [
    {
     "name": "stdout",
     "output_type": "stream",
     "text": [
      "Is Size >= 2?\n"
     ]
    },
    {
     "data": {
      "text/plain": [
       "0.19248641975308634"
      ]
     },
     "execution_count": 443,
     "metadata": {},
     "output_type": "execute_result"
    }
   ],
   "source": [
    "# De même pour la question \"Size >= 2\"\n",
    "left, right = partition(X, q4)\n",
    "print(q4)\n",
    "info_gain = information_gain(left, right, current_uncertainty)\n",
    "info_gain\n",
    "# Resultat : environ 0.1925"
   ]
  },
  {
   "cell_type": "markdown",
   "metadata": {},
   "source": [
    "### Pour ne pas tout tester manuellement, construisez la fonction vous permettant de trouver la question donnant le meilleur information gain en iterant sur chaque feature / value."
   ]
  },
  {
   "cell_type": "code",
   "execution_count": 489,
   "metadata": {},
   "outputs": [],
   "source": [
    "def find_best_split(rows):\n",
    "    best_gain = 0\n",
    "    best_question = None\n",
    "    initial_impurity = gini(rows.T[3])\n",
    "    for i in [0, 1, 2]:\n",
    "        label = np.unique(rows.T[i])\n",
    "        for j in range(len(label)):\n",
    "            current_question = Question(i, label[j])\n",
    "            right, left = partition(rows, current_question)\n",
    "            current_gain = information_gain(left, right, initial_impurity)\n",
    "            if current_gain > best_gain:\n",
    "                best_gain = current_gain\n",
    "                best_question = current_question\n",
    "    return best_gain, best_question"
   ]
  },
  {
   "cell_type": "code",
   "execution_count": 490,
   "metadata": {},
   "outputs": [
    {
     "name": "stdout",
     "output_type": "stream",
     "text": [
      "Is Color == Yellow?\n"
     ]
    }
   ],
   "source": [
    "### Testez votre fonction sur le dataset\n",
    "best_gain, best_question = find_best_split(X)\n",
    "print(best_question)\n",
    "# Vous devriez avoir : is color == yellow ?"
   ]
  },
  {
   "cell_type": "markdown",
   "metadata": {},
   "source": [
    "### Nous allons maintenant construire notre Decision Tree \n",
    "#### Les objets Leaf et Decision_Node sont donnés,  à vous de trouver la fonction qui permettra de construire l'arbre (build_tree)"
   ]
  },
  {
   "cell_type": "code",
   "execution_count": 491,
   "metadata": {},
   "outputs": [],
   "source": [
    "class Leaf:\n",
    "    def __init__(self, rows):\n",
    "        self.predictions = class_counts(rows)"
   ]
  },
  {
   "cell_type": "code",
   "execution_count": 492,
   "metadata": {},
   "outputs": [],
   "source": [
    "class Decision_Node:\n",
    "    \"\"\"A Decision Node asks a question.\n",
    "    This holds a reference to the question, and to the two child nodes.\n",
    "    \"\"\"\n",
    "    def __init__(self,\n",
    "                 question,\n",
    "                 true_branch,\n",
    "                 false_branch):\n",
    "        self.question = question\n",
    "        self.true_branch = true_branch\n",
    "        self.false_branch = false_branch"
   ]
  },
  {
   "cell_type": "code",
   "execution_count": 493,
   "metadata": {},
   "outputs": [],
   "source": [
    "def build_tree(rows):\n",
    "    best_gain, best_question = find_best_split(rows)\n",
    "    if best_gain == 0:\n",
    "        return (Leaf(rows.T[3]))\n",
    "    else:\n",
    "        right, left = partition(rows, best_question)\n",
    "        return(Decision_Node(best_question, build_tree(right), build_tree(left)))\n"
   ]
  },
  {
   "cell_type": "markdown",
   "metadata": {},
   "source": [
    "### Fonction d'affichage de l'arbre (c'est cadeau ;) )"
   ]
  },
  {
   "cell_type": "code",
   "execution_count": 494,
   "metadata": {},
   "outputs": [],
   "source": [
    "def print_tree(node, spacing=\"\"):\n",
    "    \"\"\"World's most elegant tree printing function.\"\"\"\n",
    "\n",
    "    # Base case: we've reached a leaf\n",
    "    if isinstance(node, Leaf):\n",
    "        print (spacing + \"Predict\", node.predictions)\n",
    "        return\n",
    "\n",
    "    # Print the question at this node\n",
    "    print (spacing + str(node.question))\n",
    "\n",
    "    # Call this function recursively on the true branch\n",
    "    print (spacing + '--> True:')\n",
    "    print_tree(node.true_branch, spacing + \"  \")\n",
    "\n",
    "    # Call this function recursively on the false branch\n",
    "    print (spacing + '--> False:')\n",
    "    print_tree(node.false_branch, spacing + \"  \")"
   ]
  },
  {
   "cell_type": "markdown",
   "metadata": {},
   "source": [
    "### Maintenant, creez votre arbre et imprimez le ! ;)"
   ]
  },
  {
   "cell_type": "code",
   "execution_count": 495,
   "metadata": {},
   "outputs": [],
   "source": [
    "my_tree = build_tree(X)"
   ]
  },
  {
   "cell_type": "code",
   "execution_count": 496,
   "metadata": {},
   "outputs": [
    {
     "name": "stdout",
     "output_type": "stream",
     "text": [
      "Is Color == Yellow?\n",
      "--> True:\n",
      "  Predict {'Lemon': 20}\n",
      "--> False:\n",
      "  Is Season == Winter?\n",
      "  --> True:\n",
      "    Is Color == Green?\n",
      "    --> True:\n",
      "      Predict {'Kiwi': 22}\n",
      "    --> False:\n",
      "      Predict {'Orange': 20}\n",
      "  --> False:\n",
      "    Is Size >= 3?\n",
      "    --> True:\n",
      "      Predict {'Apple': 19}\n",
      "    --> False:\n",
      "      Predict {'Grape': 19}\n"
     ]
    }
   ],
   "source": [
    "print_tree(my_tree)"
   ]
  },
  {
   "cell_type": "markdown",
   "metadata": {},
   "source": [
    "### Construisez la fonction classify qui permettra de parcourir l'abre pour un exemple donné. Elle nous retourne les predictions quand elle atteint une leaf (leaf.predictions)\n",
    "#### Classify est une fonction recurssive allant de node en node :)\n",
    "#### PS : man isinstance()"
   ]
  },
  {
   "cell_type": "code",
   "execution_count": 511,
   "metadata": {},
   "outputs": [],
   "source": [
    "def classify(row, node):\n",
    "    if isinstance(node, Leaf):\n",
    "        return node.predictions\n",
    "    else:\n",
    "        if node.question.match(row):\n",
    "            return classify(row, node.true_branch)\n",
    "        else:\n",
    "            return classify(row, node.false_branch)"
   ]
  },
  {
   "cell_type": "code",
   "execution_count": 515,
   "metadata": {},
   "outputs": [
    {
     "name": "stdout",
     "output_type": "stream",
     "text": [
      "{'Kiwi': 22}\n"
     ]
    },
    {
     "data": {
      "text/plain": [
       "dict"
      ]
     },
     "execution_count": 515,
     "metadata": {},
     "output_type": "execute_result"
    }
   ],
   "source": [
    "# Test de la fonction avec le 16eme data sample. Vous devriez obtenir {'Kiwi': 22}\n",
    "prediction = classify(X[15], my_tree)\n",
    "print(prediction)"
   ]
  },
  {
   "cell_type": "code",
   "execution_count": 516,
   "metadata": {},
   "outputs": [],
   "source": [
    "def print_leaf(counts):\n",
    "    \"\"\"A nicer way to print the predictions at a leaf.\"\"\"\n",
    "    total = sum(counts.values()) * 1.0\n",
    "    probs = {}\n",
    "    for lbl in counts.keys():\n",
    "        probs[lbl] = str(int(counts[lbl] / total * 100)) + \"%\"\n",
    "    return probs"
   ]
  },
  {
   "cell_type": "code",
   "execution_count": 517,
   "metadata": {},
   "outputs": [
    {
     "data": {
      "text/plain": [
       "{'Grape': '100%'}"
      ]
     },
     "execution_count": 517,
     "metadata": {},
     "output_type": "execute_result"
    }
   ],
   "source": [
    "# Maintenant avec une fonction d'affichage un peu plus plaisante. Resultat : {'Grape': '100%'}\n",
    "print_leaf(classify(X[0], my_tree))"
   ]
  },
  {
   "cell_type": "code",
   "execution_count": 518,
   "metadata": {},
   "outputs": [],
   "source": [
    "# Tester avec ce dataset, puis essayer de changer les valeurs pour mieux comprendre le comportement de l'arbre\n",
    "testing_data = [\n",
    "    ['Green', 2, 'Winter','Kiwi'],\n",
    "    ['Yellow', 3, 'Winter', 'Lemon'],\n",
    "    ['Red', 1, 'Summer', 'Grape'],\n",
    "    ['Red', 2, 'Summer', 'Grape'],\n",
    "    ['Yellow', 3, 'Winter', 'Lemon'],\n",
    "]"
   ]
  },
  {
   "cell_type": "code",
   "execution_count": 519,
   "metadata": {},
   "outputs": [
    {
     "name": "stdout",
     "output_type": "stream",
     "text": [
      "Actual: Kiwi. Predicted: {'Kiwi': '100%'}\n",
      "Actual: Lemon. Predicted: {'Lemon': '100%'}\n",
      "Actual: Grape. Predicted: {'Grape': '100%'}\n",
      "Actual: Grape. Predicted: {'Grape': '100%'}\n",
      "Actual: Lemon. Predicted: {'Lemon': '100%'}\n"
     ]
    }
   ],
   "source": [
    "for row in testing_data:\n",
    "    print (\"Actual: %s. Predicted: %s\" %\n",
    "           (row[3], print_leaf(classify(row, my_tree))))"
   ]
  }
 ],
 "metadata": {
  "kernelspec": {
   "display_name": "Python 2",
   "language": "python",
   "name": "python2"
  },
  "language_info": {
   "codemirror_mode": {
    "name": "ipython",
    "version": 2
   },
   "file_extension": ".py",
   "mimetype": "text/x-python",
   "name": "python",
   "nbconvert_exporter": "python",
   "pygments_lexer": "ipython2",
   "version": "2.7.15rc1"
  }
 },
 "nbformat": 4,
 "nbformat_minor": 2
}
