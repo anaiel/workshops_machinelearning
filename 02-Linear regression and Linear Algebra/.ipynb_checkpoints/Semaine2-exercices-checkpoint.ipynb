{
 "cells": [
  {
   "cell_type": "markdown",
   "metadata": {
    "colab_type": "text",
    "id": "VtKbMFO0-nbN"
   },
   "source": [
    "# Régression linéaire à une variable - Exercices tirés du MOOC d'Andrew Ng"
   ]
  },
  {
   "cell_type": "markdown",
   "metadata": {
    "colab_type": "text",
    "id": "Y9AuDQ32-nbY"
   },
   "source": [
    "## Chargement des données"
   ]
  },
  {
   "cell_type": "markdown",
   "metadata": {
    "colab_type": "text",
    "id": "Z741dp3_-nbe"
   },
   "source": [
    "### Charger les données du fichier ex1data1.csv"
   ]
  },
  {
   "cell_type": "code",
   "execution_count": 3,
   "metadata": {
    "colab": {},
    "colab_type": "code",
    "id": "z8c1mzO2-nbo"
   },
   "outputs": [],
   "source": [
    "import numpy as np\n",
    "import pandas as pd\n",
    "import matplotlib.pyplot as plt\n",
    "%matplotlib inline"
   ]
  },
  {
   "cell_type": "code",
   "execution_count": 4,
   "metadata": {
    "colab": {},
    "colab_type": "code",
    "id": "m1Z2S5uJ-nb4"
   },
   "outputs": [],
   "source": [
    "data = pd.read_csv(\"ex1data1.csv\")"
   ]
  },
  {
   "cell_type": "markdown",
   "metadata": {
    "colab_type": "text",
    "id": "1cyRCItR-ncH"
   },
   "source": [
    "### Visualiser les données"
   ]
  },
  {
   "cell_type": "code",
   "execution_count": 6,
   "metadata": {
    "colab": {},
    "colab_type": "code",
    "id": "CKf63e13-ncK"
   },
   "outputs": [
    {
     "name": "stdout",
     "output_type": "stream",
     "text": [
      "    population    profit\n",
      "0       6.1101  17.59200\n",
      "1       5.5277   9.13020\n",
      "2       8.5186  13.66200\n",
      "3       7.0032  11.85400\n",
      "4       5.8598   6.82330\n",
      "5       8.3829  11.88600\n",
      "6       7.4764   4.34830\n",
      "7       8.5781  12.00000\n",
      "8       6.4862   6.59870\n",
      "9       5.0546   3.81660\n",
      "10      5.7107   3.25220\n",
      "11     14.1640  15.50500\n",
      "12      5.7340   3.15510\n",
      "13      8.4084   7.22580\n",
      "14      5.6407   0.71618\n",
      "15      5.3794   3.51290\n",
      "16      6.3654   5.30480\n",
      "17      5.1301   0.56077\n",
      "18      6.4296   3.65180\n",
      "19      7.0708   5.38930\n",
      "20      6.1891   3.13860\n",
      "21     20.2700  21.76700\n",
      "22      5.4901   4.26300\n",
      "23      6.3261   5.18750\n",
      "24      5.5649   3.08250\n",
      "25     18.9450  22.63800\n",
      "26     12.8280  13.50100\n",
      "27     10.9570   7.04670\n",
      "28     13.1760  14.69200\n",
      "29     22.2030  24.14700\n",
      "..         ...       ...\n",
      "67     10.2360   7.77540\n",
      "68      5.4994   1.01730\n",
      "69     20.3410  20.99200\n",
      "70     10.1360   6.67990\n",
      "71      7.3345   4.02590\n",
      "72      6.0062   1.27840\n",
      "73      7.2259   3.34110\n",
      "74      5.0269  -2.68070\n",
      "75      6.5479   0.29678\n",
      "76      7.5386   3.88450\n",
      "77      5.0365   5.70140\n",
      "78     10.2740   6.75260\n",
      "79      5.1077   2.05760\n",
      "80      5.7292   0.47953\n",
      "81      5.1884   0.20421\n",
      "82      6.3557   0.67861\n",
      "83      9.7687   7.54350\n",
      "84      6.5159   5.34360\n",
      "85      8.5172   4.24150\n",
      "86      9.1802   6.79810\n",
      "87      6.0020   0.92695\n",
      "88      5.5204   0.15200\n",
      "89      5.0594   2.82140\n",
      "90      5.7077   1.84510\n",
      "91      7.6366   4.29590\n",
      "92      5.8707   7.20290\n",
      "93      5.3054   1.98690\n",
      "94      8.2934   0.14454\n",
      "95     13.3940   9.05510\n",
      "96      5.4369   0.61705\n",
      "\n",
      "[97 rows x 2 columns]\n"
     ]
    },
    {
     "data": {
      "text/plain": [
       "<matplotlib.axes._subplots.AxesSubplot at 0x114708be0>"
      ]
     },
     "execution_count": 6,
     "metadata": {},
     "output_type": "execute_result"
    },
    {
     "data": {
      "image/png": "[encoded data removed]",
      "text/plain": [
       "<Figure size 432x288 with 1 Axes>"
      ]
     },
     "metadata": {
      "needs_background": "light"
     },
     "output_type": "display_data"
    }
   ],
   "source": [
    "df = pd.DataFrame(data)\n",
    "print(df)\n",
    "data.plot.scatter('population', 'profit')"
   ]
  },
  {
   "cell_type": "markdown",
   "metadata": {
    "colab_type": "text",
    "id": "dSFCW8_2-ncV"
   },
   "source": [
    "Découpez vos données en deux vecteurs X et y et transformerz-les en array numpy"
   ]
  },
  {
   "cell_type": "markdown",
   "metadata": {
    "colab_type": "text",
    "id": "4BkcMlIM-ncY"
   },
   "source": [
    "Note: Les colonnes d'un Dataframe peuvent être sélectionnées par leur nom, de la même manière que dans un dictionnaire"
   ]
  },
  {
   "cell_type": "code",
   "execution_count": 8,
   "metadata": {
    "colab": {},
    "colab_type": "code",
    "id": "KcsC8WcO-ncc"
   },
   "outputs": [],
   "source": [
    "X = np.array(data['population'])\n",
    "y = np.array(data['profit'])"
   ]
  },
  {
   "cell_type": "markdown",
   "metadata": {
    "colab_type": "text",
    "id": "uCjzAGfP-ndC"
   },
   "source": [
    "## Calcul d'une première prédiction"
   ]
  },
  {
   "cell_type": "markdown",
   "metadata": {
    "colab_type": "text",
    "id": "ybfHHtMG-ndJ"
   },
   "source": [
    "### Initialisez theta en un vecteur de deux valeurs à zéro"
   ]
  },
  {
   "cell_type": "code",
   "execution_count": 7,
   "metadata": {
    "colab": {},
    "colab_type": "code",
    "id": "mJ2vY1m4-ndO"
   },
   "outputs": [],
   "source": [
    "theta = np.zeros(2)"
   ]
  },
  {
   "cell_type": "markdown",
   "metadata": {
    "colab_type": "text",
    "id": "_WgZ-_MO-ndf"
   },
   "source": [
    "### Écrivez une fonction _predict_ qui prend en argument une population (x) ainsi que les parametres theta et prédit le profit (y) associé"
   ]
  },
  {
   "cell_type": "code",
   "execution_count": 9,
   "metadata": {
    "colab": {},
    "colab_type": "code",
    "id": "fFh-zDJH-ndk"
   },
   "outputs": [],
   "source": [
    "#Trouver comment utiliser la methode de la matrice\n",
    "\n",
    "def predict(X, theta):\n",
    "    return (X * theta[1] + theta[0])"
   ]
  },
  {
   "cell_type": "markdown",
   "metadata": {
    "colab_type": "text",
    "id": "kt1P7vn--ndw"
   },
   "source": [
    "### Écrivez une fonction _fit_ qui prend en arguments le vecteur X et le vecteur y des données d'entraînement et renvoie le vecteur de paramètres _theta_ qui a été appris"
   ]
  },
  {
   "cell_type": "code",
   "execution_count": 14,
   "metadata": {
    "colab": {},
    "colab_type": "code",
    "id": "oIxDux36-nd5"
   },
   "outputs": [],
   "source": [
    "def fit(X, y, theta, alpha, num_iters):\n",
    "    # Initialiser certaines variable utiles\n",
    "    m = len(X)\n",
    "    \n",
    "    # Boucler sur le nombre d'itérations\n",
    "    for i in range(num_iters):\n",
    "        \n",
    "        # Effectuer une itération de descente du gradient (i.e. on update theta une fois)\n",
    "        tmp = theta[0] - (alpha / m) * np.sum(predict(X, theta) - y)\n",
    "        theta[1] = theta[1] - (alpha / m) * np.dot(X, predict(X, theta) - y)\n",
    "        theta[0] = tmp\n",
    "\n",
    "    return theta"
   ]
  },
  {
   "cell_type": "markdown",
   "metadata": {
    "colab_type": "text",
    "id": "DwrC0nI4-neF"
   },
   "source": [
    "### Lancez l'apprentissage en appelant la fonction _fit_ et en prenant bien soin de récupérer le résultat de *theta* à la fin!! Vous devriez obtenir des valeurs autour de [-3.6303, 1.1664]"
   ]
  },
  {
   "cell_type": "markdown",
   "metadata": {
    "colab_type": "text",
    "id": "VllVlNsu-neJ"
   },
   "source": [
    "Pour commencer, on fixera alpha à 0.01 et num_iters à 1500"
   ]
  },
  {
   "cell_type": "code",
   "execution_count": 16,
   "metadata": {
    "colab": {},
    "colab_type": "code",
    "id": "2MaV5EMO-neP"
   },
   "outputs": [
    {
     "name": "stdout",
     "output_type": "stream",
     "text": [
      "[-3.8957756   1.19303311]\n"
     ]
    }
   ],
   "source": [
    "fit_theta = fit(X, y, theta, 0.01, 1500)\n",
    "print(fit_theta)"
   ]
  },
  {
   "cell_type": "markdown",
   "metadata": {
    "colab_type": "text",
    "id": "ukqvYNpV-neX"
   },
   "source": [
    "## Visualiser la droite de régression"
   ]
  },
  {
   "cell_type": "markdown",
   "metadata": {
    "colab_type": "text",
    "id": "nR-hGKV1-nea"
   },
   "source": [
    "### Voici une fonction pour visualiser votre droite de régression (cadeau!) Vous pourrez l'appeler plus loin dans l'exercice"
   ]
  },
  {
   "cell_type": "code",
   "execution_count": 92,
   "metadata": {
    "colab": {},
    "colab_type": "code",
    "id": "r549bq_A-nec"
   },
   "outputs": [],
   "source": [
    "def visualize(theta):\n",
    "    fig = plt.figure()\n",
    "    ax = plt.axes()\n",
    "    ax.set_xlim([4.5,22.5])\n",
    "    ax.set_ylim([-5, 25])\n",
    "    ax.scatter(X, y)\n",
    "    line_x = np.linspace(0,22.5, 20)\n",
    "    line_y = theta[0] + line_x * theta[1]\n",
    "    ax.plot(line_x, line_y)\n",
    "    plt.show()"
   ]
  },
  {
   "cell_type": "markdown",
   "metadata": {
    "colab_type": "text",
    "id": "1LVVbhCe-nev"
   },
   "source": [
    "### Appelez la fonction pour visualiser la droite avec différentes valeurs de theta"
   ]
  },
  {
   "cell_type": "code",
   "execution_count": 93,
   "metadata": {
    "colab": {},
    "colab_type": "code",
    "id": "BvSmLk2h-nez"
   },
   "outputs": [
    {
     "data": {
      "image/png": "[encoded data removed]",
      "text/plain": [
       "<Figure size 432x288 with 1 Axes>"
      ]
     },
     "metadata": {
      "needs_background": "light"
     },
     "output_type": "display_data"
    }
   ],
   "source": [
    "visualize(theta)"
   ]
  },
  {
   "cell_type": "markdown",
   "metadata": {
    "colab_type": "text",
    "id": "VyGAqDu4-ne5"
   },
   "source": [
    "## Fonction de coût"
   ]
  },
  {
   "cell_type": "markdown",
   "metadata": {
    "colab_type": "text",
    "id": "tpJsqsgx-ne7"
   },
   "source": [
    "Maintenant voyons comment resserrer notre analyse de l'algorithme et calculons le coût (ou la perte, ou l'erreur) à chaque itération."
   ]
  },
  {
   "cell_type": "markdown",
   "metadata": {
    "colab_type": "text",
    "id": "1wxB8E6P-nfB"
   },
   "source": [
    "### Définissez la fonction de coût de votre modèle"
   ]
  },
  {
   "cell_type": "code",
   "execution_count": 21,
   "metadata": {
    "colab": {},
    "colab_type": "code",
    "id": "E0tvdAqE-nfR"
   },
   "outputs": [],
   "source": [
    "def cost(X, y, theta):\n",
    "    m = len(X)\n",
    "    tmp = np.subtract(predict(X, theta), y)\n",
    "    return (1 / (2 * m)) * np.dot(tmp, tmp)"
   ]
  },
  {
   "cell_type": "markdown",
   "metadata": {
    "colab_type": "text",
    "id": "MxAQuaAu-ngz"
   },
   "source": [
    "### Testez-la avec theta = [0,0]   Vous devriez obtenir environ 32.07"
   ]
  },
  {
   "cell_type": "code",
   "execution_count": 98,
   "metadata": {
    "colab": {},
    "colab_type": "code",
    "id": "-U27P4lx-ng2"
   },
   "outputs": [
    {
     "data": {
      "text/plain": [
       "32.072733877455676"
      ]
     },
     "execution_count": 98,
     "metadata": {},
     "output_type": "execute_result"
    }
   ],
   "source": [
    "theta = [0, 0]\n",
    "c = cost(X, y, theta)\n",
    "c"
   ]
  },
  {
   "cell_type": "markdown",
   "metadata": {
    "colab_type": "text",
    "id": "Z7Jv8u42-nhN"
   },
   "source": [
    "### Maintenant avec theta = [-1,2]. Vous devriez obtenir environ 54.24"
   ]
  },
  {
   "cell_type": "code",
   "execution_count": 99,
   "metadata": {
    "colab": {},
    "colab_type": "code",
    "id": "9DaEcLJ9-nhQ"
   },
   "outputs": [
    {
     "data": {
      "text/plain": [
       "54.24245508201238"
      ]
     },
     "execution_count": 99,
     "metadata": {},
     "output_type": "execute_result"
    }
   ],
   "source": [
    "theta = [-1, 2]\n",
    "c = cost(X, y, theta)\n",
    "c"
   ]
  },
  {
   "cell_type": "markdown",
   "metadata": {
    "colab_type": "text",
    "id": "kNQ1iSlD-ni_"
   },
   "source": [
    "### Copiez le code de votre fonction _fit_ et ajoutez-y un appel à la fonction _cost_, à chaque itération. Vous stockerez vos résultats dans une liste nommée J_history, que vous retournerez avec *theta* à la fin de la fonction"
   ]
  },
  {
   "cell_type": "markdown",
   "metadata": {
    "colab_type": "text",
    "id": "VlRSVFHs-njC"
   },
   "source": [
    "Et oui, en Python, une fonction peut retourner plus qu'une variable!!"
   ]
  },
  {
   "cell_type": "code",
   "execution_count": 22,
   "metadata": {
    "colab": {},
    "colab_type": "code",
    "id": "mfWYxJgV-njD"
   },
   "outputs": [],
   "source": [
    "def fit_with_cost(X, y, theta, alpha, num_iters):\n",
    "    m = len(X)\n",
    "    J_history = [cost(X, y, theta)]\n",
    "    for i in range(num_iters):\n",
    "        tmp = theta[0] - (alpha / m) * np.sum(np.subtract(predict(X, theta), y))\n",
    "        theta[1] = theta[1] - (alpha / m) * np.dot(X, np.subtract(predict(X, theta), y))\n",
    "        theta[0] = tmp\n",
    "        J_history.append(cost(X, y, theta))\n",
    "\n",
    "    return theta, J_history"
   ]
  },
  {
   "cell_type": "markdown",
   "metadata": {
    "colab_type": "text",
    "id": "DofMubfP-nkU"
   },
   "source": [
    "### Appelez la fonction en récupérant les valeurs de theta et J_history"
   ]
  },
  {
   "cell_type": "code",
   "execution_count": 19,
   "metadata": {
    "colab": {},
    "colab_type": "code",
    "id": "Flt9gCx3-nkY"
   },
   "outputs": [],
   "source": [
    "# D'abord on réinitialise theta à zéro\n",
    "theta = np.zeros(2)"
   ]
  },
  {
   "cell_type": "code",
   "execution_count": 23,
   "metadata": {
    "colab": {},
    "colab_type": "code",
    "id": "Bz6ih0Jj-nkh"
   },
   "outputs": [
    {
     "name": "stdout",
     "output_type": "stream",
     "text": [
      "[-3.63029144  1.16636235]\n",
      "[32.072733877455676, 6.737190464870008, 5.931593568604956, 5.901154707081388, 5.895228586444221, 5.89009494311733, 5.885004158443646, 5.8799324804914175, 5.874879094762573, 5.869843911806385, 5.86482686531293, 5.8598278899321805, 5.85484692057229, 5.849883892376587, 5.844938740722034, 5.840011401218361, 5.8351018097072265, 5.830209902261388, 5.825335615183862, 5.820478885007099, 5.815639648492154, 5.81081784262787, 5.806013404630045, 5.80122627194063, 5.796456382226898, 5.791703673380653, 5.7869680835173956, 5.782249550975539, 5.777548014315596, 5.772863412319382, 5.768195683989212, 5.76354476854712, 5.758910605434047, 5.754293134309078, 5.749692295048628, 5.745108027745684, 5.740540272709014, 5.735988970462381, 5.731454061743792, 5.726935487504702, 5.722433188909257, 5.717947107333529, 5.713477184364749, 5.709023361800549, 5.704585581648198, 5.700163786123856, 5.695757917651815, 5.691367918863752, 5.68699373259798, 5.682635301898707, 5.678292570015292, 5.673965480401505, 5.6696539767147955, 5.665358002815553, 5.661077502766379, 5.6568124208313595, 5.6525627014753335, 5.648328289363181, 5.644109129359092, 5.639905166525856, 5.635716346124135, 5.631542613611772, 5.627383914643054, 5.623240195068026, 5.619111400931778, 5.61499747847374, 5.610898374126984, 5.606814034517532, 5.602744406463647, 5.598689436975159, 5.594649073252759, 5.590623262687323, 5.586611952859215, 5.582615091537623, 5.578632626679852, 5.574664506430678, 5.570710679121643, 5.566771093270403, 5.562845697580051, 5.558934440938442, 5.555037272417544, 5.551154141272755, 5.547284996942256, 5.5434297890463515, 5.539588467386808, 5.535760981946203, 5.531947282887275, 5.5281473205522715, 5.524361045462306, 5.520588408316713, 5.5168293599924025, 5.513083851543225, 5.509351834199332, 5.5056332593665385, 5.501928078625699, 5.498236243732065, 5.494557706614666, 5.490892419375677, 5.487240334289805, 5.483601403803652, 5.479975580535112, 5.476362817272741, 5.472763066975152, 5.469176282770398, 5.465602417955358, 5.462041425995138, 5.4584932605224585, 5.454957875337047, 5.451435224405051, 5.447925261858424, 5.444427941994333, 5.4409432192745655, 5.437471048324933, 5.434011383934687, 5.430564181055919, 5.427129394802985, 5.423706980451917, 5.420296893439837, 5.416899089364382, 5.413513523983123, 5.410140153212987, 5.406778933129693, 5.403429819967165, 5.4000927701169745, 5.396767740127768, 5.393454686704697, 5.390153566708862, 5.386864337156747, 5.383586955219661, 5.380321378223178, 5.377067563646582, 5.373825469122317, 5.37059505243543, 5.367376271523024, 5.364169084473712, 5.360973449527068, 5.357789325073084, 5.354616669651633, 5.3514554419519165, 5.348305600811944, 5.345167105217981, 5.342039914304029, 5.338923987351284, 5.335819283787603, 5.332725763186989, 5.329643385269053, 5.326572109898499, 5.323511897084587, 5.32046270698063, 5.317424499883461, 5.3143972362329235, 5.311380876611356, 5.3083753817430726, 5.305380712493861, 5.302396829870465, 5.2994236950200815, 5.296461269229852, 5.29350951392636, 5.290568390675129, 5.287637861180118, 5.284717887283231, 5.281808430963811, 5.278909454338153, 5.276020919659001, 5.27314278931507, 5.270275025830544, 5.267417591864592, 5.264570450210885, 5.261733563797111, 5.2589068956844836, 5.256090409067274, 5.253284067272323, 5.250487833758565, 5.2477016721165555, 5.244925546067994, 5.242159419465253, 5.239403256290902, 5.236657020657251, 5.2339206768058695, 5.2311941891071285, 5.228477522059737, 5.225770640290271, 5.223073508552728, 5.220386091728055, 5.217708354823696, 5.215040262973137, 5.212381781435449, 5.2097328755948435, 5.207093510960208, 5.204463653164672, 5.20184326796515, 5.199232321241896, 5.1966307789980615, 5.19403860735926, 5.191455772573107, 5.188882241008802, 5.186317979156676, 5.183762953627759, 5.181217131153349, 5.1786804785845755, 5.176152962891966, 5.173634551165021, 5.171125210611782, 5.168624908558404, 5.166133612448731, 5.163651289843875, 5.161177908421789, 5.158713435976849, 5.156257840419434, 5.1538110897755045, 5.151373152186197, 5.148943995907396, 5.146523589309323, 5.144111900876139, 5.141708899205515, 5.139314553008234, 5.136928831107779, 5.134551702439931, 5.132183136052365, 5.129823101104238, 5.127471566865799, 5.12512850271798, 5.122793878152007, 5.120467662768992, 5.118149826279543, 5.115840338503368, 5.113539169368884, 5.111246288912825, 5.108961667279848, 5.106685274722149, 5.104417081599077, 5.1021570583767355, 5.09990517562762, 5.097661404030211, 5.095425714368609, 5.093198077532151, 5.09097846451502, 5.088766846415887, 5.086563194437518, 5.084367479886401, 5.082179674172386, 5.079999748808298, 5.0778276754095675, 5.075663425693872, 5.0735069714807555, 5.071358284691268, 5.069217337347596, 5.067084101572705, 5.064958549589968, 5.06284065372281, 5.060730386394342, 5.058627720127011, 5.056532627542231, 5.054445081360036, 5.052365054398718, 5.050292519574479, 5.0482274499010735, 5.046169818489457, 5.044119598547441, 5.042076763379342, 5.040041286385626, 5.038013141062577, 5.035992301001939, 5.033978739890579, 5.03197243151014, 5.029973349736707, 5.027981468540455, 5.025996761985322, 5.024019204228667, 5.022048769520927, 5.020085432205293, 5.018129166717368, 5.016179947584834, 5.014237749427129, 5.012302546955105, 5.010374314970709, 5.008453028366643, 5.006538662126047, 5.004631191322177, 5.00273059111806, 5.000836836766199, 4.998949903608226, 4.997069767074595, 4.995196402684257, 4.9933297860443435, 4.991469892849845, 4.989616698883301, 4.987770180014478, 4.98593031220006, 4.984097071483332, 4.982270433993872, 4.980450375947234, 4.978636873644648, 4.976829903472698, 4.975029441903031, 4.973235465492034, 4.97144795088054, 4.969666874793522, 4.967892214039785, 4.966123945511668, 4.9643620461847435, 4.962606493117519, 4.96085726345113, 4.959114334409053, 4.957377683296803, 4.955647287501639, 4.95392312449227, 4.9522051718185605, 4.95049340711124, 4.948787808081611, 4.9470883525212574, 4.945395018301759, 4.943707783374398, 4.942026625769876, 4.9403515235980295, 4.938682455047536, 4.937019398385641, 4.935362331957869, 4.933711234187743, 4.932066083576499, 4.930426858702819, 4.928793538222534, 4.927166100868363, 4.925544525449622, 4.923928790851963, 4.922318876037079, 4.920714760042452, 4.919116421981068, 4.91752384104114, 4.9159369964858515, 4.914355867653077, 4.912780433955111, 4.91121067487841, 4.9096465699833125, 4.908088098903784, 4.906535241347148, 4.904987977093815, 4.903446285997032, 4.90191014798261, 4.9003795430486665, 4.898854451265366, 4.897334852774657, 4.895820727790016, 4.894312056596192, 4.892808819548944, 4.89131099707479, 4.889818569670748, 4.88833151790409, 4.8868498224120795, 4.8853734639017246, 4.883902423149524, 4.88243668100122, 4.880976218371547, 4.879521016243985, 4.8780710556705085, 4.876626317771341, 4.875186783734713, 4.87375243481661, 4.872323252340535, 4.870899217697262, 4.869480312344594, 4.868066517807122, 4.866657815675986, 4.865254187608633, 4.863855615328573, 4.862462080625159, 4.861073565353325, 4.859690051433372, 4.858311520850715, 4.856937955655664, 4.855569337963178, 4.85420564995264, 4.852846873867617, 4.851492992015639, 4.850143986767961, 4.8487998405593355, 4.847460535887785, 4.84612605531437, 4.844796381462969, 4.843471497020045, 4.842151384734428, 4.840836027417081, 4.839525407940883, 4.838219509240404, 4.836918314311682, 4.8356218062120035, 4.834329968059677, 4.833042783033825, 4.831760234374157, 4.830482305380745, 4.829208979413817, 4.8279402398935405, 4.826676070299798, 4.825416454171979, 4.824161375108761, 4.822910816767898, 4.821664762866011, 4.82042319717837, 4.819186103538688, 4.817953465838902, 4.816725268028978, 4.8155014941166865, 4.814282128167402, 4.813067154303901, 4.811856556706141, 4.8106503196110655, 4.809448427312395, 4.808250864160424, 4.807057614561817, 4.805868662979403, 4.804683993931976, 4.80350359199409, 4.802327441795865, 4.80115552802278, 4.799987835415474, 4.798824348769556, 4.7976650529353915, 4.796509932817919, 4.795358973376449, 4.794212159624467, 4.793069476629437, 4.791930909512612, 4.790796443448837, 4.789666063666354, 4.788539755446615, 4.787417504124084, 4.786299295086054, 4.785185113772448, 4.784074945675635, 4.782968776340239, 4.781866591362954, 4.780768376392351, 4.779674117128695, 4.778583799323758, 4.777497408780635, 4.776414931353551, 4.775336352947692, 4.774261659519007, 4.773190837074031, 4.772123871669708, 4.771060749413196, 4.770001456461701, 4.768945979022287, 4.767894303351698, 4.7668464157561825, 4.765802302591315, 4.764761950261812, 4.763725345221363, 4.7626924739724465, 4.761663323066164, 4.7606378791020525, 4.7596161287279255, 4.75859805863968, 4.757583655581141, 4.7565729063438775, 4.755565797767038, 4.7545623167371724, 4.753562450188067, 4.752566185100569, 4.751573508502425, 4.750584407468098, 4.7495988691186195, 4.7486168806214, 4.747638429190078, 4.7466635020843455, 4.745692086609786, 4.744724170117706, 4.743759740004973, 4.742798783713851, 4.741841288731832, 4.740887242591483, 4.739936632870274, 4.738989447190423, 4.738045673218728, 4.737105298666416, 4.736168311288972, 4.735234698885989, 4.734304449301004, 4.733377550421341, 4.732453990177952, 4.731533756545262, 4.73061683754101, 4.7297032212260985, 4.7287928957044265, 4.727885849122751, 4.726982069670519, 4.726081545579717, 4.725184265124721, 4.724290216622142, 4.723399388430677, 4.722511768950946, 4.721627346625359, 4.7207461099379495, 4.719868047414232, 4.718993147621053, 4.7181213991664395, 4.717252790699452, 4.7163873109100365, 4.715524948528874, 4.7146656923272445, 4.713809531116866, 4.712956453749759, 4.712106449118098, 4.711259506154067, 4.710415613829715, 4.709574761156817, 4.708736937186721, 4.707902131010216, 4.707070331757381, 4.706241528597454, 4.70541571073868, 4.704592867428175, 4.7037729879517896, 4.702956061633963, 4.70214207783759, 4.701331025963876, 4.700522895452208, 4.699717675780004, 4.698915356462593, 4.6981159270530615, 4.697319377142128, 4.696525696358007, 4.695734874366266, 4.694946900869702, 4.694161765608201, 4.6933794583586, 4.692599968934567, 4.691823287186457, 4.691049403001182, 4.690278306302081, 4.689509987048791, 4.688744435237113, 4.68798164089888, 4.6872215941018345, 4.686464284949491, 4.685709703581008, 4.684957840171069, 4.684208684929745, 4.683462228102366, 4.682718459969402, 4.68197737084633, 4.681238951083514, 4.680503191066069, 4.679770081213745, 4.679039611980803, 4.678311773855884, 4.677586557361889, 4.676863953055851, 4.676143951528824, 4.675426543405747, 4.6747117193453285, 4.673999470039924, 4.673289786215413, 4.672582658631084, 4.671878078079505, 4.671176035386413, 4.670476521410587, 4.669779527043733, 4.669085043210366, 4.668393060867689, 4.667703571005476, 4.667016564645958, 4.666332032843698, 4.665649966685488, 4.664970357290219, 4.664293195808771, 4.6636184734239015, 4.662946181350124, 4.662276310833599, 4.661608853152018, 4.660943799614486, 4.660281141561418, 4.6596208703644155, 4.658962977426159, 4.658307454180302, 4.657654292091347, 4.657003482654543, 4.6563550173957715, 4.655708887871441, 4.655065085668367, 4.654423602403678, 4.653784429724688, 4.653147559308802, 4.6525129828634, 4.651880692125734, 4.651250678862817, 4.650622934871315, 4.649997451977443, 4.649374222036858, 4.648753236934556, 4.648134488584755, 4.647517968930801, 4.646903669945062, 4.64629158362882, 4.6456817020121655, 4.645074017153899, 4.644468521141423, 4.6438652060906405, 4.643264064145854, 4.642665087479663, 4.642068268292856, 4.6414735988143185, 4.6408810713009245, 4.64029067803744, 4.63970241133642, 4.6391162635381065, 4.638532227010337, 4.637950294148439, 4.637370457375125, 4.636792709140406, 4.636217041921488, 4.635643448222671, 4.635071920575256, 4.634502451537443, 4.633935033694242, 4.633369659657367, 4.632806322065146, 4.632245013582422, 4.631685726900461, 4.631128454736851, 4.630573189835415, 4.630019924966111, 4.6294686529249365, 4.628919366533842, 4.62837205864063, 4.627826722118864, 4.627283349867778, 4.626741934812183, 4.626202469902374, 4.625664948114038, 4.625129362448163, 4.6245957059309495, 4.624063971613714, 4.6235341525728035, 4.623006241909503, 4.622480232749946, 4.621956118245025, 4.621433891570306, 4.620913545925932, 4.62039507453654, 4.619878470651173, 4.619363727543187, 4.618850838510172, 4.618339796873855, 4.61783059598002, 4.617323229198419, 4.616817689922685, 4.61631397157025, 4.61581206758225, 4.615311971423451, 4.614813676582155, 4.614317176570122, 4.613822464922479, 4.613329535197642, 4.6128383809772275, 4.612348995865971, 4.611861373491641, 4.611375507504967, 4.6108913915795355, 4.610409019411729, 4.609928384720636, 4.609449481247961, 4.60897230275796, 4.608496843037341, 4.608023095895198, 4.60755105516292, 4.60708071469412, 4.606612068364545, 4.606145110072004, 4.605679833736285, 4.605216233299077, 4.604754302723889, 4.604294035995977, 4.603835427122256, 4.603378470131233, 4.60292315907292, 4.602469488018763, 4.602017451061563, 4.601567042315398, 4.601118255915542, 4.6006710860184, 4.60022552680142, 4.59978157246303, 4.5993392172225445, 4.598898455320107, 4.598459281016607, 4.598021688593604, 4.597585672353255, 4.597151226618241, 4.596718345731694, 4.59628702405712, 4.595857255978325, 4.595429035899349, 4.595002358244384, 4.59457721745771, 4.594153608003617, 4.59373152436633, 4.593310961049945, 4.592891912578358, 4.592474373495182, 4.592058338363686, 4.591643801766726, 4.591230758306667, 4.590819202605312, 4.590409129303844, 4.590000533062743, 4.589593408561723, 4.5891877504996605, 4.588783553594528, 4.588380812583321, 4.587979522221996, 4.587579677285394, 4.587181272567178, 4.5867843028797655, 4.586388763054259, 4.585994647940377, 4.585601952406392, 4.585210671339058, 4.5848207996435475, 4.584432332243385, 4.58404526408038, 4.5836595901145625, 4.583275305324111, 4.582892404705298, 4.582510883272418, 4.582130736057722, 4.581751958111355, 4.581374544501292, 4.580998490313273, 4.580623790650736, 4.580250440634761, 4.579878435403996, 4.579507770114607, 4.5791384399401975, 4.5787704400717635, 4.578403765717618, 4.578038412103337, 4.577674374471689, 4.577311648082583, 4.576950228212997, 4.576590110156924, 4.5762312892253085, 4.5758737607459805, 4.575517520063602, 4.575162562539603, 4.574808883552121, 4.574456478495942, 4.574105342782438, 4.573755471839511, 4.573406861111528, 4.573059506059272, 4.572713402159866, 4.572368544906734, 4.572024929809526, 4.571682552394068, 4.5713414082023025, 4.571001492792228, 4.5706628017378454, 4.570325330629094, 4.5699890750718035, 4.569654030687623, 4.56932019311398, 4.568987558004012, 4.568656121026514, 4.568325877865882, 4.567996824222056, 4.567668955810466, 4.5673422683619735, 4.567016757622818, 4.56669241935456, 4.566369249334027, 4.566047243353257, 4.565726397219448, 4.565406706754897, 4.565088167796951, 4.564770776197948, 4.564454527825168, 4.564139418560778, 4.563825444301772, 4.563512600959929, 4.563200884461748, 4.562890290748406, 4.562580815775695, 4.562272455513976, 4.561965205948124, 4.561659063077478, 4.561354022915784, 4.561050081491149, 4.560747234845985, 4.560445479036962, 4.560144810134948, 4.559845224224967, 4.559546717406144, 4.559249285791657, 4.558952925508681, 4.558657632698342, 4.558363403515664, 4.558070234129523, 4.557778120722592, 4.557487059491295, 4.557197046645756, 4.556908078409751, 4.556620151020655, 4.5563332607294, 4.5560474038004175, 4.5557625765115946, 4.5554787751542305, 4.555195996032978, 4.554914235465802, 4.554633489783926, 4.554353755331797, 4.554075028467022, 4.553797305560328, 4.553520582995515, 4.553244857169412, 4.552970124491824, 4.552696381385486, 4.552423624286018, 4.5521518496418825, 4.551881053914331, 4.551611233577363, 4.551342385117678, 4.551074505034629, 4.550807589840181, 4.550541636058859, 4.550276640227711, 4.550012598896253, 4.549749508626434, 4.549487365992583, 4.549226167581371, 4.548965909991764, 4.548706589834975, 4.548448203734426, 4.548190748325698, 4.547934220256497, 4.547678616186597, 4.547423932787805, 4.547170166743919, 4.546917314750677, 4.546665373515724, 4.54641433975856, 4.5461642102105015, 4.545914981614643, 4.5456666507258, 4.545419214310491, 4.545172669146869, 4.544927012024699, 4.544682239745306, 4.544438349121538, 4.5441953369777215, 4.543953200149624, 4.543711935484408, 4.543471539840592, 4.543232010088012, 4.542993343107779, 4.542755535792233, 4.542518585044917, 4.542282487780517, 4.542047240924838, 4.5418128414147585, 4.541579286198187, 4.541346572234025, 4.541114696492136, 4.540883655953286, 4.540653447609125, 4.540424068462133, 4.540195515525591, 4.539967785823538, 4.53974087639073, 4.539514784272603, 4.539289506525238, 4.53906504021532, 4.538841382420095, 4.5386185302273425, 4.538396480735327, 4.538175231052766, 4.537954778298797, 4.537735119602922, 4.537516252104996, 4.537298172955166, 4.537080879313848, 4.5368643683516865, 4.536648637249516, 4.536433683198326, 4.536219503399224, 4.536006095063398, 4.535793455412081, 4.535581581676517, 4.535370471097922, 4.535160120927449, 4.53495052842615, 4.534741690864945, 4.534533605524584, 4.534326269695611, 4.534119680678328, 4.533913835782764, 4.533708732328634, 4.53350436764531, 4.533300739071782, 4.533097843956624, 4.532895679657962, 4.532694243543437, 4.532493532990172, 4.532293545384737, 4.5320942781231155, 4.53189572861067, 4.531697894262112, 4.531500772501459, 4.531304360762014, 4.531108656486318, 4.5309136571261295, 4.530719360142383, 4.53052576300516, 4.530332863193653, 4.530140658196134, 4.529949145509925, 4.529758322641359, 4.529568187105754, 4.529378736427375, 4.5291899681394066, 4.529001879783919, 4.528814468911833, 4.5286277330828915, 4.528441669865631, 4.528256276837342, 4.52807155158404, 4.527887491700442, 4.527704094789922, 4.52752135846449, 4.527339280344757, 4.527157858059903, 4.526977089247651, 4.526796971554227, 4.526617502634341, 4.526438680151147, 4.5262605017762185, 4.526082965189512, 4.525906068079348, 4.525729808142364, 4.5255541830835035, 4.525379190615968, 4.525204828461202, 4.525031094348856, 4.524857986016756, 4.524685501210879, 4.524513637685319, 4.524342393202259, 4.524171765531945, 4.524001752452653, 4.523832351750661, 4.523663561220222, 4.523495378663532, 4.523327801890707, 4.523160828719745, 4.5229944569765115, 4.522828684494693, 4.52266350911579, 4.522498928689069, 4.522334941071547, 4.52217154412796, 4.522008735730735, 4.521846513759959, 4.52168487610336, 4.521523820656275, 4.521363345321615, 4.521203448009848, 4.521044126638972, 4.520885379134479, 4.520727203429336, 4.520569597463955, 4.520412559186166, 4.52025608655119, 4.520100177521616, 4.51994483006737, 4.519790042165688, 4.5196358118010975, 4.519482136965377, 4.519329015657547, 4.519176445883833, 4.519024425657637, 4.518872952999525, 4.518722025937183, 4.518571642505413, 4.518421800746085, 4.518272498708125, 4.518123734447491, 4.517975506027139, 4.5178278115170025, 4.517680648993969, 4.51753401654185, 4.517387912251362, 4.5172423342200965, 4.517097280552498, 4.516952749359841, 4.516808738760196, 4.516665246878423, 4.516522271846126, 4.516379811801645, 4.516237864890023, 4.516096429262984, 4.515955503078914, 4.515815084502823, 4.5156751717063415, 4.515535762867679, 4.515396856171607, 4.51525844980944, 4.515120541979, 4.514983130884608, 4.514846214737048, 4.51470979175355, 4.514573860157765, 4.514438418179744, 4.514303464055913, 4.5141689960290465, 4.514035012348253, 4.513901511268945, 4.513768491052822, 4.51363594996784, 4.5135038862881975, 4.513372298294308, 4.513241184272778, 4.5131105425163875, 4.512980371324064, 4.512850669000864, 4.512721433857947, 4.512592664212556, 4.512464358387997, 4.512336514713613, 4.512209131524767, 4.512082207162817, 4.511955739975092, 4.51182972831488, 4.511704170541395, 4.511579065019767, 4.511454410121006, 4.511330204221997, 4.511206445705469, 4.511083132959975, 4.5109602643798725, 4.510837838365307, 4.51071585332218, 4.5105943076621395, 4.5104731998025525, 4.510352528166486, 4.510232291182689, 4.510112487285568, 4.50999311491517, 4.509874172517163, 4.509755658542809, 4.509637571448953, 4.509519909697992, 4.509402671757868, 4.509285856102039, 4.509169461209461, 4.509053485564569, 4.508937927657257, 4.50882278598286, 4.508708059042127, 4.508593745341215, 4.508479843391656, 4.508366351710347, 4.508253268819524, 4.508140593246748, 4.508028323524883, 4.507916458192077, 4.507804995791744, 4.507693934872544, 4.507583273988367, 4.507473011698308, 4.507363146566655, 4.507253677162867, 4.507144602061551, 4.507035919842458, 4.506927629090446, 4.506819728395472, 4.506712216352576, 4.506605091561853, 4.506498352628444, 4.506391998162513, 4.506286026779232, 4.506180437098758, 4.506075227746218, 4.505970397351695, 4.505865944550205, 4.505761867981677, 4.505658166290942, 4.505554838127713, 4.505451882146565, 4.50534929700692, 4.505247081373027, 4.505145233913949, 4.505043753303542, 4.504942638220435, 4.504841887348024, 4.504741499374441, 4.504641472992545, 4.504541806899904, 4.5044424997987775, 4.504343550396099, 4.504244957403458, 4.504146719537086, 4.504048835517842, 4.503951304071183, 4.5038541239271686, 4.503757293820424, 4.503660812490136, 4.503564678680033, 4.503468891138365, 4.503373448617895, 4.503278349875875, 4.503183593674036, 4.503089178778569, 4.502995103960105, 4.502901367993707, 4.502807969658853, 4.502714907739412, 4.502622181023631, 4.502529788304132, 4.502437728377875, 4.5023460000461615, 4.502254602114604, 4.502163533393121, 4.502072792695919, 4.501982378841469, 4.501892290652508, 4.501802526956003, 4.501713086583153, 4.501623968369365, 4.50153517115424, 4.501446693781558, 4.501358535099267, 4.501270693959465, 4.501183169218376, 4.501095959736354, 4.501009064377854, 4.50092248201142, 4.500836211509674, 4.500750251749297, 4.500664601611017, 4.500579259979591, 4.500494225743796, 4.5004094977964115, 4.500325075034203, 4.5002409563579135, 4.500157140672242, 4.500073626885831, 4.499990413911261, 4.499907500665022, 4.499824886067513, 4.499742569043015, 4.49966054851969, 4.499578823429555, 4.499497392708481, 4.499416255296163, 4.499335410136122, 4.499254856175682, 4.49917459236596, 4.4990946176618465, 4.499014931022003, 4.498935531408838, 4.498856417788497, 4.498777589130851, 4.498699044409482, 4.498620782601665, 4.498542802688364, 4.498465103654211, 4.498387684487493, 4.498310544180148, 4.498233681727737, 4.498157096129445, 4.498080786388058, 4.498004751509956, 4.4979289905050965, 4.497853502387004, 4.497778286172757, 4.497703340882972, 4.497628665541798, 4.497554259176892, 4.497480120819419, 4.4974062495040315, 4.497332644268859, 4.497259304155495, 4.497186228208986, 4.497113415477821, 4.497040865013911, 4.496968575872585, 4.496896547112575, 4.496824777796002, 4.496753266988365, 4.49668201375853, 4.496611017178718, 4.496540276324488, 4.496469790274732, 4.496399558111662, 4.496329578920787, 4.4962598517909225, 4.496190375814154, 4.496121150085845, 4.496052173704614, 4.495983445772328, 4.495914965394088, 4.495846731678218, 4.495778743736255, 4.495711000682936, 4.495643501636185, 4.495576245717106, 4.495509232049965, 4.495442459762187, 4.495375927984336, 4.495309635850108, 4.4952435824963235, 4.495177767062907, 4.495112188692882, 4.495046846532364, 4.494981739730535, 4.49491686743965, 4.494852228815013, 4.494787823014971, 4.494723649200905, 4.494659706537213, 4.494595994191306, 4.494532511333592, 4.494469257137467, 4.494406230779308, 4.494343431438454, 4.4942808582972, 4.49421851054079, 4.494156387357402, 4.494094487938134, 4.494032811477003, 4.493971357170925, 4.4939101242197115, 4.493849111826053, 4.4937883191955175, 4.493727745536528, 4.493667390060363, 4.493607251981141, 4.493547330515808, 4.493487624884136, 4.493428134308703, 4.4933688580148905, 4.493309795230867, 4.493250945187583, 4.493192307118759, 4.493133880260875, 4.493075663853161, 4.493017657137589, 4.492959859358859, 4.492902269764391, 4.49284488760432, 4.492787712131476, 4.492730742601387, 4.492673978272259, 4.492617418404968, 4.4925610622630545, 4.4925049091127125, 4.492448958222776, 4.492393208864718, 4.4923376603126295, 4.49228231184322, 4.492227162735803, 4.492172212272289, 4.492117459737174, 4.492062904417529, 4.492008545602999, 4.491954382585781, 4.491900414660624, 4.491846641124821, 4.491793061278189, 4.491739674423074, 4.491686479864329, 4.491633476909316, 4.491580664867888, 4.4915280430523845, 4.491475610777624, 4.491423367360892, 4.491371312121932, 4.491319444382939, 4.491267763468548, 4.491216268705828, 4.491164959424272, 4.4911138349557875, 4.491062894634687, 4.491012137797684, 4.49096156378388, 4.490911171934754, 4.49086096159416, 4.490810932108316, 4.4907610828257924, 4.490711413097508, 4.4906619222767175, 4.490612609719008, 4.490563474782287, 4.490514516826771, 4.490465735214986, 4.490417129311751, 4.490368698484175, 4.490320442101646, 4.49027235953582, 4.490224450160622, 4.490176713352228, 4.490129148489064, 4.490081754951793, 4.490034532123307, 4.4899874793887244, 4.4899405961353756, 4.489893881752801, 4.489847335632735, 4.489800957169108, 4.489754745758032, 4.489708700797791, 4.489662821688838, 4.48961710783379, 4.489571558637409, 4.489526173506604, 4.489480951850422, 4.489435893080035, 4.489390996608739, 4.489346261851942, 4.489301688227158, 4.489257275153997, 4.489213022054162, 4.4891689283514395, 4.489124993471691, 4.489081216842843, 4.489037597894885, 4.488994136059861, 4.488950830771858, 4.488907681467004, 4.488864687583456, 4.488821848561395, 4.488779163843019, 4.488736632872535, 4.488694255096154, 4.488652029962077, 4.488609956920496, 4.488568035423583, 4.488526264925482, 4.488484644882306, 4.488443174752121, 4.488401853994954, 4.488360682072771, 4.4883196584494724, 4.488278782590899, 4.48823805396481, 4.48819747204088, 4.488157036290699, 4.488116746187758, 4.488076601207441, 4.4880366008270265, 4.487996744525673, 4.48795703178442, 4.487917462086166, 4.487878034915684, 4.487838749759593, 4.4877996061063685, 4.487760603446322, 4.487721741271607, 4.487683019076203, 4.487644436355913, 4.487605992608354, 4.487567687332955, 4.487529520030948, 4.48749149020536, 4.487453597361009, 4.4874158410044975, 4.487378220644201, 4.487340735790274, 4.487303385954626, 4.48726617065093, 4.487229089394611, 4.487192141702837, 4.487155327094518, 4.487118645090293, 4.487082095212529, 4.487045676985317, 4.487009389934458, 4.48697323358746, 4.486937207473539, 4.4869013111236, 4.486865544070243, 4.486829905847748, 4.486794395992074, 4.486759014040851, 4.4867237595333735, 4.4866886320105985, 4.486653631015133, 4.486618756091233, 4.486584006784796, 4.486549382643356, 4.486514883216076, 4.486480508053741, 4.486446256708757, 4.486412128735142, 4.486378123688517, 4.486344241126109, 4.486310480606735, 4.486276841690803, 4.486243323940307, 4.48620992691881, 4.48617665019146, 4.4861434933249615, 4.48611045588758, 4.486077537449144, 4.4860447375810235, 4.4860120558561345, 4.485979491848933, 4.485947045135406, 4.4859147152930685, 4.485882501900957, 4.485850404539626, 4.485818422791137, 4.485786556239061, 4.485754804468466, 4.485723167065917, 4.485691643619467, 4.48566023371865, 4.485628936954484, 4.485597752919457, 4.485566681207524, 4.485535721414104, 4.485504873136073, 4.48547413597176, 4.485443509520939, 4.485412993384826, 4.485382587166075, 4.48535229046877, 4.485322102898418, 4.485292024061953, 4.485262053567721, 4.485232191025481, 4.485202436046394, 4.485172788243023, 4.485143247229331, 4.485113812620665, 4.48508448403376, 4.485055261086734, 4.485026143399075, 4.484997130591648, 4.484968222286677, 4.4849394181077535, 4.4849107176798215, 4.484882120629173, 4.484853626583452, 4.484825235171638, 4.484796946024051, 4.484768758772342, 4.484740673049487, 4.484712688489783, 4.48468480472885, 4.484657021403615, 4.484629338152312, 4.484601754614484, 4.484574270430969, 4.484546885243894, 4.484519598696683, 4.484492410434043, 4.484465320101953, 4.484438327347677, 4.484411431819744, 4.484384633167951, 4.4843579310433554, 4.484331325098272, 4.484304814986266, 4.484278400362154, 4.484252080881993, 4.484225856203082, 4.48419972598395, 4.4841736898843605, 4.484147747565298, 4.484121898688974, 4.4840961429188075, 4.48407047991944, 4.484044909356716, 4.484019430897683, 4.483994044210589, 4.483968748964877, 4.483943544831179, 4.483918431481319, 4.483893408588292, 4.4838684758262835, 4.483843632870646, 4.483818879397901, 4.483794215085735, 4.483769639612999, 4.483745152659696, 4.483720753906987, 4.483696443037178, 4.483672219733718, 4.483648083681199, 4.483624034565349, 4.483600072073027, 4.4835761958922165, 4.483552405712034, 4.483528701222707, 4.483505082115583, 4.48348154808312, 4.483458098818882, 4.483434734017543, 4.483411453374869, 4.483388256587726]\n"
     ]
    }
   ],
   "source": [
    "# Lancez l'entraînement avec votre nouvelle fonction\n",
    "fit_theta, J_history = fit_with_cost(X, y, theta, 0.01, 1500)\n",
    "print(fit_theta)\n",
    "print(J_history)"
   ]
  },
  {
   "cell_type": "markdown",
   "metadata": {
    "colab_type": "text",
    "id": "aFXhSqyx-nlI"
   },
   "source": [
    "### On visualise maintenant l'évolution du coût en fonction du nombre d'itérations"
   ]
  },
  {
   "cell_type": "markdown",
   "metadata": {
    "colab_type": "text",
    "id": "J2uZavL0-nmQ"
   },
   "source": [
    "Vous pouvez voir si en modifiant les valeurs d'alpha et de num_iters, le graphique change d'allure"
   ]
  },
  {
   "cell_type": "code",
   "execution_count": 24,
   "metadata": {
    "colab": {},
    "colab_type": "code",
    "id": "lNUNtUmP-nmT"
   },
   "outputs": [
    {
     "data": {
      "text/plain": [
       "[<matplotlib.lines.Line2D at 0x1149ff710>]"
      ]
     },
     "execution_count": 24,
     "metadata": {},
     "output_type": "execute_result"
    },
    {
     "data": {
      "image/png": "[encoded data removed]",
      "text/plain": [
       "<Figure size 432x288 with 1 Axes>"
      ]
     },
     "metadata": {
      "needs_background": "light"
     },
     "output_type": "display_data"
    }
   ],
   "source": [
    "fit = plt.figure()\n",
    "ax = plt.axes()\n",
    "ax.plot(J_history)"
   ]
  },
  {
   "cell_type": "markdown",
   "metadata": {
    "colab_type": "text",
    "id": "Q-sSfR1C_OTj"
   },
   "source": [
    "# Exercices Numpy"
   ]
  },
  {
   "cell_type": "markdown",
   "metadata": {},
   "source": [
    " ## La suite d'exercices suivants a pour but de vous faire comprendre le fonctionnement des numpy array et leurs avantages/defaults par rapport aux listes de python."
   ]
  },
  {
   "cell_type": "markdown",
   "metadata": {
    "colab_type": "text",
    "id": "U8-mBDc_AFxx"
   },
   "source": [
    "### Creez une liste A nommée \"list_A\" contenant les éléments (0, 1, 1, 2, 3, 5, 8). A partir de cette liste créez un numpy array nommé \"np_A\""
   ]
  },
  {
   "cell_type": "code",
   "execution_count": 26,
   "metadata": {},
   "outputs": [],
   "source": [
    "list_A = [0, 1, 1, 2, 3, 5, 8]\n",
    "np_A = np.array(list_A)"
   ]
  },
  {
   "cell_type": "markdown",
   "metadata": {},
   "source": [
    "### Affichez votre numpy array. Ainsi que : sa forme, sa taille, sa dimension et son type"
   ]
  },
  {
   "cell_type": "code",
   "execution_count": 27,
   "metadata": {},
   "outputs": [
    {
     "name": "stdout",
     "output_type": "stream",
     "text": [
      "[0 1 1 2 3 5 8]\n",
      "(7,)\n",
      "7\n",
      "int64\n"
     ]
    }
   ],
   "source": [
    "print(np_A)\n",
    "print(np_A.shape)\n",
    "print(len(np_A))\n",
    "print(np_A.dtype)"
   ]
  },
  {
   "cell_type": "markdown",
   "metadata": {},
   "source": [
    "### Ajoutez 2 a chaque element de la liste \"list_A\""
   ]
  },
  {
   "cell_type": "code",
   "execution_count": 28,
   "metadata": {},
   "outputs": [
    {
     "name": "stdout",
     "output_type": "stream",
     "text": [
      "[2, 3, 3, 4, 5, 7, 10]\n"
     ]
    }
   ],
   "source": [
    "list_A = [i + 2 for i in list_A]\n",
    "print (list_A)"
   ]
  },
  {
   "cell_type": "markdown",
   "metadata": {},
   "source": [
    "### Ajoutez 2 a chaque élément de votre numpy array (votre solution ne doit pas utiliser de boucles)"
   ]
  },
  {
   "cell_type": "code",
   "execution_count": 29,
   "metadata": {},
   "outputs": [
    {
     "name": "stdout",
     "output_type": "stream",
     "text": [
      "[ 2  3  3  4  5  7 10]\n"
     ]
    }
   ],
   "source": [
    "np_A = np_A + 2\n",
    "print (np_A)"
   ]
  },
  {
   "cell_type": "markdown",
   "metadata": {},
   "source": [
    "### Calculez la somme de tous les éléments de \"np_A\" (sans utiliser de boucle)"
   ]
  },
  {
   "cell_type": "code",
   "execution_count": 19,
   "metadata": {},
   "outputs": [
    {
     "name": "stdout",
     "output_type": "stream",
     "text": [
      "34\n"
     ]
    }
   ],
   "source": [
    "sum = np_A.dot(np.full(np_A.shape, 1))\n",
    "print (sum)"
   ]
  },
  {
   "cell_type": "markdown",
   "metadata": {},
   "source": [
    "### Convertissez les elements de votre numpy array en float"
   ]
  },
  {
   "cell_type": "code",
   "execution_count": 23,
   "metadata": {},
   "outputs": [
    {
     "name": "stdout",
     "output_type": "stream",
     "text": [
      "float64\n"
     ]
    }
   ],
   "source": [
    "np_A = np_A.astype(float)\n",
    "print(np_A.dtype)"
   ]
  },
  {
   "cell_type": "markdown",
   "metadata": {},
   "source": [
    "### Convertissez votre numpy array en une liste python"
   ]
  },
  {
   "cell_type": "code",
   "execution_count": 30,
   "metadata": {},
   "outputs": [
    {
     "name": "stdout",
     "output_type": "stream",
     "text": [
      "[2, 3, 3, 4, 5, 7, 10]\n"
     ]
    }
   ],
   "source": [
    "list_np_A = np_A.tolist()\n",
    "print (list_np_A)"
   ]
  },
  {
   "cell_type": "markdown",
   "metadata": {
    "colab_type": "text",
    "id": "Sq2WUIWG_7zF"
   },
   "source": [
    "### Exécutez les trois cellules suivantes pour visualiser les matrices M et N"
   ]
  },
  {
   "cell_type": "code",
   "execution_count": 26,
   "metadata": {
    "colab": {},
    "colab_type": "code",
    "id": "bM6p6obT_7zH"
   },
   "outputs": [],
   "source": [
    "M = np.random.randint(10, size=(4,4))\n",
    "N = np.random.randint(10, size=(4,4))"
   ]
  },
  {
   "cell_type": "code",
   "execution_count": 27,
   "metadata": {
    "colab": {},
    "colab_type": "code",
    "id": "wxYUf0EA_7zT"
   },
   "outputs": [
    {
     "data": {
      "text/plain": [
       "array([[1, 2, 7, 5],\n",
       "       [0, 0, 1, 8],\n",
       "       [4, 1, 5, 3],\n",
       "       [4, 8, 3, 1]])"
      ]
     },
     "execution_count": 27,
     "metadata": {},
     "output_type": "execute_result"
    }
   ],
   "source": [
    "M"
   ]
  },
  {
   "cell_type": "code",
   "execution_count": 28,
   "metadata": {
    "colab": {},
    "colab_type": "code",
    "id": "915fQVX2_7zd"
   },
   "outputs": [
    {
     "data": {
      "text/plain": [
       "array([[3, 1, 0, 4],\n",
       "       [2, 9, 5, 5],\n",
       "       [3, 4, 0, 7],\n",
       "       [4, 2, 7, 3]])"
      ]
     },
     "execution_count": 28,
     "metadata": {},
     "output_type": "execute_result"
    }
   ],
   "source": [
    "N"
   ]
  },
  {
   "cell_type": "code",
   "execution_count": 0,
   "metadata": {
    "colab": {},
    "colab_type": "code",
    "id": "o46kOEbg_7zi"
   },
   "outputs": [],
   "source": []
  },
  {
   "cell_type": "markdown",
   "metadata": {
    "colab_type": "text",
    "id": "EMTQZ7V2_7zm"
   },
   "source": [
    "### Aditionnez les deux matrices"
   ]
  },
  {
   "cell_type": "code",
   "execution_count": 30,
   "metadata": {
    "colab": {},
    "colab_type": "code",
    "id": "QK2oUupg_7zo"
   },
   "outputs": [
    {
     "name": "stdout",
     "output_type": "stream",
     "text": [
      "[[ 4  3  7  9]\n",
      " [ 2  9  6 13]\n",
      " [ 7  5  5 10]\n",
      " [ 8 10 10  4]]\n"
     ]
    }
   ],
   "source": [
    "print(M + N)"
   ]
  },
  {
   "cell_type": "markdown",
   "metadata": {
    "colab_type": "text",
    "id": "7YbEoLmF_7zs"
   },
   "source": [
    "### Calculez le produit matriciel de M et N. Vérifiez votre opération en calculant les premières cellules à la main"
   ]
  },
  {
   "cell_type": "code",
   "execution_count": 31,
   "metadata": {
    "colab": {},
    "colab_type": "code",
    "id": "SWsjMAc1_7zt"
   },
   "outputs": [
    {
     "name": "stdout",
     "output_type": "stream",
     "text": [
      "[[48 57 45 78]\n",
      " [35 20 56 31]\n",
      " [41 39 26 65]\n",
      " [41 90 47 80]]\n"
     ]
    }
   ],
   "source": [
    "print(M.dot(N))"
   ]
  },
  {
   "cell_type": "markdown",
   "metadata": {
    "colab_type": "text",
    "id": "ay846XQZ_7zx"
   },
   "source": [
    "### ** Bonus: Écrivez vous-mêmes une fonction de produit matriciel, avec des boucles imbriquées "
   ]
  },
  {
   "cell_type": "code",
   "execution_count": 0,
   "metadata": {
    "colab": {},
    "colab_type": "code",
    "id": "tfYUlDhS_7z0"
   },
   "outputs": [],
   "source": []
  },
  {
   "cell_type": "markdown",
   "metadata": {
    "colab_type": "text",
    "id": "uCq1b-SQ_7z6"
   },
   "source": [
    "### ** Comparez son temps de calcul à la fonction de numpy avec de très grosses matrices en entrée"
   ]
  },
  {
   "cell_type": "code",
   "execution_count": 0,
   "metadata": {
    "colab": {},
    "colab_type": "code",
    "id": "IUzAnW7g_7z7"
   },
   "outputs": [],
   "source": []
  },
  {
   "cell_type": "markdown",
   "metadata": {
    "colab": {},
    "colab_type": "code",
    "id": "W8REX2em_YaB"
   },
   "source": [
    "## Aller plus loin avec numpy (optionnal)"
   ]
  },
  {
   "cell_type": "markdown",
   "metadata": {
    "colab": {},
    "colab_type": "code",
    "id": "6ViVuoeH_YnX"
   },
   "source": [
    "### Creez une liste a deux dimension ((1,2,3), (2,1,3), (3,2,1), (1,3,2)) nommée \"list_B\". Convertissez le en numpy array \"np_B\""
   ]
  },
  {
   "cell_type": "code",
   "execution_count": null,
   "metadata": {},
   "outputs": [],
   "source": []
  },
  {
   "cell_type": "markdown",
   "metadata": {
    "colab": {},
    "colab_type": "code",
    "id": "t_qxQPvR_Y2n"
   },
   "source": [
    "### Extrayez les deux premiere lignes et colonnes de \"np_B\". En sortie on obtient ((1,2),(2,1))"
   ]
  },
  {
   "cell_type": "code",
   "execution_count": null,
   "metadata": {},
   "outputs": [],
   "source": []
  },
  {
   "cell_type": "markdown",
   "metadata": {
    "colab": {},
    "colab_type": "code",
    "id": "z7fE4YII_Yug"
   },
   "source": [
    "### Creez un masque qui montre toutes les valeurs egales a 1. "
   ]
  },
  {
   "cell_type": "code",
   "execution_count": null,
   "metadata": {},
   "outputs": [],
   "source": []
  },
  {
   "cell_type": "markdown",
   "metadata": {},
   "source": [
    "### Pour toutes les valeurs du masque multipliez la valeur par 3"
   ]
  },
  {
   "cell_type": "code",
   "execution_count": null,
   "metadata": {},
   "outputs": [],
   "source": []
  },
  {
   "cell_type": "markdown",
   "metadata": {},
   "source": [
    "### Creez un nouveau numpy array \"np_C\" avec les valeurs (0, 0, 1, 2, 3, 5, 8) (en 1 dimension)"
   ]
  },
  {
   "cell_type": "code",
   "execution_count": null,
   "metadata": {},
   "outputs": [],
   "source": []
  },
  {
   "cell_type": "markdown",
   "metadata": {},
   "source": [
    "### Trouvez le minimum, maximum et la moyenne du numpy array \"np_C\""
   ]
  },
  {
   "cell_type": "code",
   "execution_count": null,
   "metadata": {},
   "outputs": [],
   "source": []
  },
  {
   "cell_type": "markdown",
   "metadata": {},
   "source": [
    "### Creez une fonction qui prend un nombre en parametre et renvoie son carré. Appliquez cette fonction a chaque element de votre numpy array a l'aide de la fonction vectorize "
   ]
  },
  {
   "cell_type": "code",
   "execution_count": null,
   "metadata": {},
   "outputs": [],
   "source": []
  },
  {
   "cell_type": "markdown",
   "metadata": {},
   "source": [
    "### Changez la dimension cd \"np_B\" pour qu'elle passe de 4 * 3 a 3 * 4"
   ]
  },
  {
   "cell_type": "code",
   "execution_count": null,
   "metadata": {},
   "outputs": [],
   "source": []
  },
  {
   "cell_type": "markdown",
   "metadata": {},
   "source": [
    "### Changez la dimension de np_B pour passer a un numpy array d'une seule dimension (flatten, ravel)"
   ]
  },
  {
   "cell_type": "code",
   "execution_count": null,
   "metadata": {},
   "outputs": [],
   "source": []
  },
  {
   "cell_type": "markdown",
   "metadata": {},
   "source": [
    "### Travail sur une image"
   ]
  },
  {
   "cell_type": "code",
   "execution_count": 1,
   "metadata": {},
   "outputs": [
    {
     "data": {
      "text/plain": [
       "<matplotlib.image.AxesImage at 0x7ff6857dad68>"
      ]
     },
     "execution_count": 1,
     "metadata": {},
     "output_type": "execute_result"
    },
    {
     "data": {
      "image/png": "[encoded data removed]",
      "text/plain": [
       "<Figure size 432x288 with 1 Axes>"
      ]
     },
     "metadata": {
      "needs_background": "light"
     },
     "output_type": "display_data"
    }
   ],
   "source": [
    "#install scikit-image\n",
    "import numpy as np\n",
    "from skimage import io\n",
    "import matplotlib.pyplot as plt\n",
    "%matplotlib inline\n",
    "photo = io.imread(\"cat.jpeg\")\n",
    "plt.imshow(photo)"
   ]
  },
  {
   "cell_type": "markdown",
   "metadata": {},
   "source": [
    "### A l'aide du slicing inversez l'orientation de l'image (le bas est en haut)"
   ]
  },
  {
   "cell_type": "code",
   "execution_count": null,
   "metadata": {},
   "outputs": [],
   "source": []
  },
  {
   "cell_type": "markdown",
   "metadata": {},
   "source": [
    "### A l'aide du slicing créez un mirroir de l'image d'origine"
   ]
  },
  {
   "cell_type": "code",
   "execution_count": null,
   "metadata": {},
   "outputs": [],
   "source": []
  },
  {
   "cell_type": "markdown",
   "metadata": {},
   "source": [
    "### A l'aide de np.where appliquez un masque qui converti les pixels en dessous de 100 en 0 et au dessus en 255"
   ]
  },
  {
   "cell_type": "code",
   "execution_count": null,
   "metadata": {},
   "outputs": [],
   "source": []
  },
  {
   "cell_type": "markdown",
   "metadata": {},
   "source": [
    "### Transposez l'image"
   ]
  },
  {
   "cell_type": "code",
   "execution_count": null,
   "metadata": {},
   "outputs": [],
   "source": []
  },
  {
   "cell_type": "markdown",
   "metadata": {},
   "source": [
    "Pour ceux souhaitant aller plus loin sur numpy quelques pistes intéressantes qui restent à explorer : les séquences, le sampling avec random choice, uniqs et count"
   ]
  },
  {
   "cell_type": "markdown",
   "metadata": {},
   "source": [
    "## En résumé les numpy array ont les particularités suivantes :\n",
    "- ils supportent des operations vectorizées (opérations sur chaque élements de la matrice)\n",
    "- la taille d'un numpy array ne peux etre changé\n",
    "- il n'y a qu'un type de donnée dans un numpy array\n",
    "- ils prennent beaucoup moins de place "
   ]
  }
 ],
 "metadata": {
  "colab": {
   "name": "Semaine2-exercices.ipynb",
   "provenance": [],
   "version": "0.3.2"
  },
  "kernelspec": {
   "display_name": "Python 3",
   "language": "python",
   "name": "python3"
  },
  "language_info": {
   "codemirror_mode": {
    "name": "ipython",
    "version": 3
   },
   "file_extension": ".py",
   "mimetype": "text/x-python",
   "name": "python",
   "nbconvert_exporter": "python",
   "pygments_lexer": "ipython3",
   "version": "3.7.1"
  }
 },
 "nbformat": 4,
 "nbformat_minor": 1
}
