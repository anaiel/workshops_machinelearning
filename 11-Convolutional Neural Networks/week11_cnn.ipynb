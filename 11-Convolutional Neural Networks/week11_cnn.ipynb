{
 "cells": [
  {
   "cell_type": "code",
   "execution_count": 2,
   "metadata": {},
   "outputs": [
    {
     "name": "stderr",
     "output_type": "stream",
     "text": [
      "Using TensorFlow backend.\n"
     ]
    }
   ],
   "source": [
    "import keras\n",
    "import pandas as pd\n",
    "from glob import glob                                # Parcourir dossier de dataset\n",
    "import matplotlib.pyplot as plt\n",
    "import cv2                                           # traitement des images du dataset\n",
    "from keras.datasets import mnist                     # Importe le dataset de mnist\n",
    "from keras.utils import to_categorical               # pour modifier les labels\n",
    "from keras.models import Sequential, load_model      # type de modele\n",
    "from keras.layers import Dense, Flatten              # Fully Connected Layers\n",
    "from keras.layers import Conv2D, MaxPooling2D        # Convolutional layers + Maxpooling layers\n",
    "from keras.optimizers import Adam\n",
    "from keras.losses import categorical_crossentropy    # Loss function\n",
    "\n",
    "# from keras.callbacks import TensorBoard\n",
    "\n",
    "import h5py                                          # Pour pouvoir enregistrer son modele en .h5"
   ]
  },
  {
   "cell_type": "markdown",
   "metadata": {},
   "source": [
    "# Detection of handwritten digits with MNIST\n",
    "\n",
    "MNIST est un exemple très souvent utilisé pour commencer avec les CNN, son dataset existe sur keras et peut être directement importé avec la fonction **load_data( )**\n",
    "\n",
    "Note :\n",
    "- Le dataset de MNIST a 60 000 exemples d'entrainement et 10 000 exemples de training\n",
    "- Le format de chaque image est de 28x28 pixels"
   ]
  },
  {
   "cell_type": "markdown",
   "metadata": {},
   "source": [
    "## STEP 1 : Load data"
   ]
  },
  {
   "cell_type": "code",
   "execution_count": 3,
   "metadata": {},
   "outputs": [
    {
     "name": "stdout",
     "output_type": "stream",
     "text": [
      "Downloading data from https://s3.amazonaws.com/img-datasets/mnist.npz\n",
      "11493376/11490434 [==============================] - 1s 0us/step\n"
     ]
    }
   ],
   "source": [
    "# Les données sont déjà séparées en training set et testing set sur keras\n",
    "\n",
    "(x_train, y_train), (x_test, y_test) = mnist.load_data()"
   ]
  },
  {
   "cell_type": "markdown",
   "metadata": {},
   "source": [
    "Vous pouvez voir à quoi ressemble votre dataset avec un print. A noter que votre x_train est une liste [ ] de 60 000 exemples et que votre x_test est une liste de 10 000 exemples"
   ]
  },
  {
   "cell_type": "code",
   "execution_count": 6,
   "metadata": {},
   "outputs": [
    {
     "name": "stdout",
     "output_type": "stream",
     "text": [
      "=== x_train ===\n",
      "[[[0 0 0 ... 0 0 0]\n",
      "  [0 0 0 ... 0 0 0]\n",
      "  [0 0 0 ... 0 0 0]\n",
      "  ...\n",
      "  [0 0 0 ... 0 0 0]\n",
      "  [0 0 0 ... 0 0 0]\n",
      "  [0 0 0 ... 0 0 0]]\n",
      "\n",
      " [[0 0 0 ... 0 0 0]\n",
      "  [0 0 0 ... 0 0 0]\n",
      "  [0 0 0 ... 0 0 0]\n",
      "  ...\n",
      "  [0 0 0 ... 0 0 0]\n",
      "  [0 0 0 ... 0 0 0]\n",
      "  [0 0 0 ... 0 0 0]]\n",
      "\n",
      " [[0 0 0 ... 0 0 0]\n",
      "  [0 0 0 ... 0 0 0]\n",
      "  [0 0 0 ... 0 0 0]\n",
      "  ...\n",
      "  [0 0 0 ... 0 0 0]\n",
      "  [0 0 0 ... 0 0 0]\n",
      "  [0 0 0 ... 0 0 0]]\n",
      "\n",
      " ...\n",
      "\n",
      " [[0 0 0 ... 0 0 0]\n",
      "  [0 0 0 ... 0 0 0]\n",
      "  [0 0 0 ... 0 0 0]\n",
      "  ...\n",
      "  [0 0 0 ... 0 0 0]\n",
      "  [0 0 0 ... 0 0 0]\n",
      "  [0 0 0 ... 0 0 0]]\n",
      "\n",
      " [[0 0 0 ... 0 0 0]\n",
      "  [0 0 0 ... 0 0 0]\n",
      "  [0 0 0 ... 0 0 0]\n",
      "  ...\n",
      "  [0 0 0 ... 0 0 0]\n",
      "  [0 0 0 ... 0 0 0]\n",
      "  [0 0 0 ... 0 0 0]]\n",
      "\n",
      " [[0 0 0 ... 0 0 0]\n",
      "  [0 0 0 ... 0 0 0]\n",
      "  [0 0 0 ... 0 0 0]\n",
      "  ...\n",
      "  [0 0 0 ... 0 0 0]\n",
      "  [0 0 0 ... 0 0 0]\n",
      "  [0 0 0 ... 0 0 0]]]\n",
      "(60000, 28, 28)\n",
      "\n",
      "=== y_train ===\n",
      "[5 0 4 ... 5 6 8]\n",
      "(60000,)\n"
     ]
    }
   ],
   "source": [
    "print ('=== x_train ===')\n",
    "print (x_train)\n",
    "print ('\\n=== y_train ===')\n",
    "print (y_train)"
   ]
  },
  {
   "cell_type": "markdown",
   "metadata": {},
   "source": [
    "- Chaque exemple se compose de 28 listes de 28 valeurs (car 28x28 pixels), il y a donc 28x28 = 784 valeurs, une par pixel\n",
    "- Chaque pixel a une valeur comprise entre 0 et 255, car un int = 8 octets donc 2^8 = 256 valeurs possibles, mais on commence à zéro donc 0-255\n",
    "- Les labels sont une valeur unique comprise entre 0 et 9 et correspondent au digit de l'image en question  \n",
    "  \n",
    "Vous pouvez verifier la shape de votre dataset (x_train, x_test, y_train et y_test)"
   ]
  },
  {
   "cell_type": "code",
   "execution_count": 9,
   "metadata": {},
   "outputs": [
    {
     "name": "stdout",
     "output_type": "stream",
     "text": [
      "x_train: (60000, 28, 28)\n",
      "y_train: (60000,)\n",
      "x_test: (10000, 28, 28)\n",
      "y_test: (10000,)\n"
     ]
    }
   ],
   "source": [
    "print ('x_train:', x_train.shape)\n",
    "print ('y_train:', y_train.shape)\n",
    "print ('x_test:', x_test.shape)\n",
    "print ('y_test:', y_test.shape)"
   ]
  },
  {
   "cell_type": "markdown",
   "metadata": {},
   "source": [
    "## STEP 2 : Prepare Data\n",
    "\n",
    "\n",
    "Ensuite, une fois les données importées, nous devons les préparer afin qu'elles puissent être données à notre modèle  \n",
    "Dans un premier temps, nous allons ajouter une dimension à la fin de nos x_train et x_test pour préciser le nombre de canaux que nous utiliserons grâce à la fonction **.reshape( )**\n",
    "\n",
    "- 1 pour Noir et Blanc\n",
    "- 3 pour RGB\n",
    "- L pour nuances de gris\n",
    "\n",
    "Pour cet exemple, nous nous contenterons d'une image en N&B, donc la valeur de notre dimension supplémentaire sera égale à 1"
   ]
  },
  {
   "cell_type": "code",
   "execution_count": 10,
   "metadata": {},
   "outputs": [],
   "source": [
    "x_train = x_train.reshape(60000, 28, 28, 1)\n",
    "x_test = x_test.reshape(10000, 28, 28, 1)"
   ]
  },
  {
   "cell_type": "markdown",
   "metadata": {},
   "source": [
    "Nous allons ensuite normaliser notre dataset afin que les valeurs de nos pixels soient comprises entre 0 et 1 plutôt qu'entre 0 et 255. Cela facilitera les calculs pour la machine.\n",
    "\n",
    "Pour ce faire, il faudra d'abord \"recaster\" nos variables *x_train* et *x_test* en tant que float."
   ]
  },
  {
   "cell_type": "code",
   "execution_count": 12,
   "metadata": {},
   "outputs": [],
   "source": [
    "# Recast\n",
    "\n",
    "x_train = x_train.astype(float)\n",
    "x_test = x_test.astype(float)\n",
    "\n",
    "# Normalize\n",
    "\n",
    "x_train /= 255\n",
    "x_test /= 255"
   ]
  },
  {
   "cell_type": "markdown",
   "metadata": {},
   "source": [
    "Maintenant qu'on a bien modifié nos training et testing sets, il nous reste à modifier nos labels de façon à ce que la machine puisse mieux les comprendre.\n",
    "\n",
    "Pour l'instant, notre y_train est une liste de 60 000 valeurs entre 0 et 9, qui sont les labels des images correspondantes. \n",
    "\n",
    "*y_train[8] = label de la 9ème image de notre dataset, x_train[8]*\n",
    "\n",
    "Plutôt que d'avoir un label qui soit une valeur comprise entre 0 et 9, on va préférer avoir un label qui a la forme d'un one-hot vecteur. C'est à dire un vecteur composé de 10 valeurs (0 ou 1), avec un 1 a la position correspondante au label, et des 0 partout ailleurs.\n",
    "\n",
    "*Exemple : on veut transformer un* **y_train[8] = 1** en **y_train[8] = [0, 1, 0, 0, 0, 0, 0, 0, 0, 0]**\n",
    "\n",
    "On va utiliser une fonction de keras appelée **to_categorical(a, b)** qui prend en paramètre :\n",
    "- a = la liste qu'on cherche à changer\n",
    "- b = le nombre de sorties que nous avons\n",
    "\n",
    "Note : Cette fonction saura automatiquement où placer le 1 dans votre vecteur. Vous devez donc juste lui donner le nombre de catégories possibles que notre modèle pourra avoir."
   ]
  },
  {
   "cell_type": "code",
   "execution_count": 13,
   "metadata": {},
   "outputs": [],
   "source": [
    "y_train = to_categorical(y_train, 10)\n",
    "y_test = to_categorical(y_test, 10)"
   ]
  },
  {
   "cell_type": "code",
   "execution_count": 14,
   "metadata": {},
   "outputs": [
    {
     "name": "stdout",
     "output_type": "stream",
     "text": [
      "[[0. 0. 0. ... 0. 0. 0.]\n",
      " [1. 0. 0. ... 0. 0. 0.]\n",
      " [0. 0. 0. ... 0. 0. 0.]\n",
      " ...\n",
      " [0. 0. 0. ... 0. 0. 0.]\n",
      " [0. 0. 0. ... 0. 0. 0.]\n",
      " [0. 0. 0. ... 0. 1. 0.]]\n"
     ]
    }
   ],
   "source": [
    "print (y_train)"
   ]
  },
  {
   "cell_type": "markdown",
   "metadata": {},
   "source": [
    "## STEP 3 : Create Model\n",
    "\n",
    "Maintenant que nos données sont prêtes, nous allons pouvoir créer notre modèle. Keras a énormément de fonctions qui nous permettent d'éviter d'avoir à recoder nos fonctions de loss ou de backpropagation, pour l'objectif de cet exercice, nous allons donc les utiliser :)\n",
    "\n",
    "Nous allons commencer par définir une variable en tant que modèle en utilisant la méthode Sequential de keras. Utiliser cette méthode nous facilitera le travail pour ajouter nos couches et train notre modèle. Pour plus d'infos vous pouvez checker la doc\n",
    "\n",
    "https://keras.io/models/sequential/\n",
    "\n",
    "Nous allons ensuite pouvoir y ajouter les couches dont nous avons besoin. Rappelez vous l'ordre des couches (D'abord les couches de conv, puis les couches de Maxpool, puis les Fully Connected)\n",
    "\n",
    "Pour ajouter une couche, vous pouvez utiliser la fonction **.add( )**\n",
    "\n",
    "\n",
    "Pour chaque couche de convolution, vous devrez préciser :  \n",
    "*Attention ! Pour la première couche, n'oubliez pas qu'il faut préciser l'* **input_shape**\n",
    "- Le nombre de neurones\n",
    "- La taille de kernel si couche conv\n",
    "- La taille de Pool si couche MaxPool\n",
    "- La fonction d'activation (nous utiliserons **'relu'**)\n",
    "\n",
    "Pour chaque couche de MaxPooling, vous devrez préciser :\n",
    "- La taille de Pool si couche MaxPool\n",
    "\n",
    "Pour chaque couche de Fully Connected, vous devrez préciser :\n",
    "- Le nombre de neurones\n",
    "- La fonction d'activation (nous utiliserons **'relu'**)\n",
    "*Attention ! Pour la dernière couche de FC, n'oubliez pas qu'il faut préciser le* **nombre de sorties et non le nombre de neurones** *et que votre fonction d'activation est* **'softmax'** *et non* **'relu'**\n",
    "\n",
    "Voici la doc qui vous aidera à mieux comprendre Sequential https://keras.io/getting-started/sequential-model-guide/\n",
    "\n",
    "Vous pouvez utiliser la fonction **.summary( )** pour voir les détails de vos couches"
   ]
  },
  {
   "cell_type": "code",
   "execution_count": 31,
   "metadata": {},
   "outputs": [
    {
     "name": "stdout",
     "output_type": "stream",
     "text": [
      "_________________________________________________________________\n",
      "Layer (type)                 Output Shape              Param #   \n",
      "=================================================================\n",
      "conv2d_9 (Conv2D)            (None, 26, 26, 32)        320       \n",
      "_________________________________________________________________\n",
      "conv2d_10 (Conv2D)           (None, 24, 24, 32)        9248      \n",
      "_________________________________________________________________\n",
      "max_pooling2d_7 (MaxPooling2 (None, 12, 12, 32)        0         \n",
      "_________________________________________________________________\n",
      "conv2d_11 (Conv2D)           (None, 10, 10, 64)        18496     \n",
      "_________________________________________________________________\n",
      "conv2d_12 (Conv2D)           (None, 8, 8, 64)          36928     \n",
      "_________________________________________________________________\n",
      "max_pooling2d_8 (MaxPooling2 (None, 4, 4, 64)          0         \n",
      "_________________________________________________________________\n",
      "flatten_4 (Flatten)          (None, 1024)              0         \n",
      "_________________________________________________________________\n",
      "dense_7 (Dense)              (None, 256)               262400    \n",
      "_________________________________________________________________\n",
      "dense_8 (Dense)              (None, 10)                2570      \n",
      "=================================================================\n",
      "Total params: 329,962\n",
      "Trainable params: 329,962\n",
      "Non-trainable params: 0\n",
      "_________________________________________________________________\n"
     ]
    }
   ],
   "source": [
    "# My model is based on the VGG convnet:\n",
    "\n",
    "# Define model\n",
    "\n",
    "model = Sequential()\n",
    "\n",
    "# Ajouter les couches de convolution\n",
    "\n",
    "model.add(Conv2D(32, (3, 3), padding='valid', activation='relu', input_shape=(28, 28, 1)))\n",
    "model.add(Conv2D(32, (3, 3), padding='valid', activation='relu'))\n",
    "\n",
    "# Ajouter les couches de MaxPooling\n",
    "\n",
    "model.add(MaxPooling2D(pool_size=(2, 2)))\n",
    "\n",
    "# Alterner entre couche de convolution et maxpooling\n",
    "\n",
    "model.add(Conv2D(64, (3, 3), activation='relu'))\n",
    "model.add(Conv2D(64, (3, 3), activation='relu'))\n",
    "model.add(MaxPooling2D(pool_size=(2, 2)))\n",
    "\n",
    "# Applatir le dataset en un seul array\n",
    "\n",
    "model.add(Flatten())\n",
    "\n",
    "# Ajouter les couches Fully Connected\n",
    "\n",
    "model.add(Dense(256, activation='relu'))\n",
    "\n",
    "# Ajouter la dernière couche FC, mais avec cette fois le nombre de sorties au lieu du nombre de neurones et 'softmax' comme activation\n",
    "\n",
    "model.add(Dense(10, activation = 'softmax'))\n",
    "\n",
    "# Compilation du modèle avant l'entrainement\n",
    "model.compile(loss='categorical_crossentropy', \n",
    "              optimizer=Adam(), \n",
    "              metrics=['accuracy'])\n",
    "\n",
    "# Recap de votre modèle, avec l'output shape à chaque couche\n",
    "model.summary()"
   ]
  },
  {
   "cell_type": "markdown",
   "metadata": {},
   "source": [
    "## STEP 4 : Train Model and save it\n",
    "\n",
    "Nous devons maintenant entrainer notre modèle afin de voir ses performances. Pour cela, vous pouvez utiliser la fonction **.fit( )** qui prend en paramètres :\n",
    "- x_train\n",
    "- y_train,\n",
    "- votre taille de batch (favorisez les puissances de 2)\n",
    "- votre nombre d'epochs\n",
    "- votre proportion de validation (par ex 0.2 pour 20%)"
   ]
  },
  {
   "cell_type": "code",
   "execution_count": 32,
   "metadata": {},
   "outputs": [
    {
     "name": "stdout",
     "output_type": "stream",
     "text": [
      "Train on 48000 samples, validate on 12000 samples\n",
      "Epoch 1/10\n",
      " - 84s - loss: 0.1240 - acc: 0.9621 - val_loss: 0.0663 - val_acc: 0.9814\n",
      "Epoch 2/10\n",
      " - 87s - loss: 0.0415 - acc: 0.9870 - val_loss: 0.0473 - val_acc: 0.9849\n",
      "Epoch 3/10\n",
      " - 87s - loss: 0.0291 - acc: 0.9906 - val_loss: 0.0358 - val_acc: 0.9895\n",
      "Epoch 4/10\n",
      " - 82s - loss: 0.0215 - acc: 0.9929 - val_loss: 0.0309 - val_acc: 0.9918\n",
      "Epoch 5/10\n",
      " - 82s - loss: 0.0173 - acc: 0.9947 - val_loss: 0.0353 - val_acc: 0.9887\n",
      "Epoch 6/10\n",
      " - 87s - loss: 0.0122 - acc: 0.9961 - val_loss: 0.0432 - val_acc: 0.9897\n",
      "Epoch 7/10\n",
      " - 83s - loss: 0.0118 - acc: 0.9962 - val_loss: 0.0521 - val_acc: 0.9879\n",
      "Epoch 8/10\n",
      " - 81s - loss: 0.0104 - acc: 0.9963 - val_loss: 0.0415 - val_acc: 0.9913\n",
      "Epoch 9/10\n",
      " - 86s - loss: 0.0096 - acc: 0.9969 - val_loss: 0.0367 - val_acc: 0.9918\n",
      "Epoch 10/10\n",
      " - 94s - loss: 0.0080 - acc: 0.9973 - val_loss: 0.0461 - val_acc: 0.9892\n",
      "10000/10000 [==============================] - 5s 473us/step\n",
      "score =  [0.03516661382293969, 0.9898]\n"
     ]
    }
   ],
   "source": [
    "training = model.fit(x_train, y_train, batch_size=32, epochs=10, verbose=2, validation_split=0.2)\n",
    "\n",
    "# On évalue ensuite notre modèle sur notre testing set\n",
    "score = model.evaluate(x_test, y_test, batch_size=128)\n",
    "print('score = ', score)\n",
    "\n",
    "# Save le modèle\n",
    "model.save(\"votre_model.h5\")"
   ]
  },
  {
   "cell_type": "markdown",
   "metadata": {},
   "source": [
    "Vous pouvez voir l'évolution de vos loss et accuracy grâce à cette fonction (Kdo)"
   ]
  },
  {
   "cell_type": "code",
   "execution_count": 33,
   "metadata": {},
   "outputs": [
    {
     "data": {
      "text/plain": [
       "<matplotlib.axes._subplots.AxesSubplot at 0x1661580b8>"
      ]
     },
     "execution_count": 33,
     "metadata": {},
     "output_type": "execute_result"
    },
    {
     "data": {
      "image/png": "[encoded data removed]",
      "text/plain": [
       "<Figure size 432x288 with 1 Axes>"
      ]
     },
     "metadata": {
      "needs_background": "light"
     },
     "output_type": "display_data"
    }
   ],
   "source": [
    "historydf = pd.DataFrame(training.history, index=training.epoch)\n",
    "historydf.plot(ylim=(0,1))"
   ]
  },
  {
   "cell_type": "markdown",
   "metadata": {},
   "source": [
    "## STEP 5 : Testing our model\n",
    "\n",
    "Maintenant que nous avons un modèle, nous allons pouvoir le tester. Pour cela, nous allons créer nos propres images de digits en blanc sur noir en allant sur ce site : https://www.piskelapp.com/\n",
    "- Cliquer sur *Create Sprite* en haut à droite\n",
    "- Dans les paramètres, resize l'image à 28x28\n",
    "- N'oubliez pas de faire un **fond noir**\n",
    "- Dessinez le digit que vous voulez tester **en blanc** (n'hésitez pas à en faire plusieurs)\n",
    "- Exportez votre image (icone de la montagne)\n",
    "- Vérifiez que vous êtes bien sous l'onglet PNG, et cliquez sur *Download Selected frame export*\n",
    "\n",
    "Ensuite, une fois toutes vos images téléchargées, renommez les avec leur label correspondant (ce sera plus simple de vérifier le résultat), ex : image de 0 sera nommée 0.png\n",
    "  \n",
    "Mettez toutes vos images dans le même dossier que votre jupyter notebook\n",
    "  \n",
    "Pour aller chercher les images à tester, nous allons utiliser un module appelé **glob** qui se situe déjà dans vos imports.\n",
    "  \n",
    "Il faudra ensuite faire les mêmes modifications que nous avons faites à notre dataset dans le *STEP 2 : Prepare dataset* (reshape, normalize)"
   ]
  },
  {
   "cell_type": "code",
   "execution_count": 25,
   "metadata": {},
   "outputs": [],
   "source": [
    "import numpy as np"
   ]
  },
  {
   "cell_type": "code",
   "execution_count": 37,
   "metadata": {},
   "outputs": [
    {
     "name": "stdout",
     "output_type": "stream",
     "text": [
      "The prediction for  New Piskel-1.png.png is : 1 (expected  1 )\n",
      "The prediction for  New Piskel-2.png.png is : 2 (expected  2 )\n",
      "The prediction for  New Piskel-3.png.png is : 5 (expected  5 )\n",
      "The prediction for  New Piskel-4.png.png is : 9 (expected  0 )\n",
      "The prediction for  New Piskel-5.png.png is : 6 (expected  6 )\n",
      "The prediction for  New Piskel-6.png.png is : 7 (expected  7 )\n"
     ]
    }
   ],
   "source": [
    "# Recupérer toutes nos images\n",
    "all_images = glob('*.png')\n",
    "expected = [1, 2, 5, 0, 6, 7]\n",
    "i = 0;\n",
    "\n",
    "model = load_model('votre_model.h5')\n",
    "\n",
    "# Loop in all_images to process each image\n",
    "for image in all_images :\n",
    "    # Open the image using cv2\n",
    "    img = cv2.imread(image, 0)\n",
    "    \n",
    "    # Print the image to see (will only print the last one of the loop)\n",
    "    #plt.imshow(img)\n",
    "    \n",
    "    # Reshape the image, adding one dimension at the end\n",
    "    img = img.reshape(1, 28, 28, 1)\n",
    "    \n",
    "    # Recast and normalize\n",
    "    img = img.astype('float32')\n",
    "    img /= 255\n",
    "    \n",
    "    # Get prediction\n",
    "    prediction = model.predict(img)\n",
    "    \n",
    "    # Get highest value index\n",
    "    prediction = np.argmax(prediction)\n",
    "    \n",
    "    print('The prediction for ', image, 'is :', prediction, '(expected ', expected[i], ')')\n",
    "    i += 1"
   ]
  }
 ],
 "metadata": {
  "kernelspec": {
   "display_name": "Python 3",
   "language": "python",
   "name": "python3"
  },
  "language_info": {
   "codemirror_mode": {
    "name": "ipython",
    "version": 3
   },
   "file_extension": ".py",
   "mimetype": "text/x-python",
   "name": "python",
   "nbconvert_exporter": "python",
   "pygments_lexer": "ipython3",
   "version": "3.7.1"
  }
 },
 "nbformat": 4,
 "nbformat_minor": 2
}
